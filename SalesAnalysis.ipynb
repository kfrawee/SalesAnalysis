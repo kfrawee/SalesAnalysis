{
 "cells": [
  {
   "cell_type": "markdown",
   "metadata": {},
   "source": [
    "# Sales Analysis"
   ]
  },
  {
   "cell_type": "markdown",
   "metadata": {},
   "source": [
    "---\n",
    "## Table of contents:"
   ]
  },
  {
   "cell_type": "markdown",
   "metadata": {},
   "source": [
    "- [Introduction](#intro)\n",
    "- [1. Importing necessary libraries](#import)\n",
    "- [2. Gathering data](#gather)\n",
    "- [3. Assessing data](#assess)\n",
    "- [4. Cleaning data](#clean)\n",
    "- [5. Storing cleaned data](#store) \n",
    "- [6. Analyze and Visualization](#analyze-visaulize) "
   ]
  },
  {
   "cell_type": "markdown",
   "metadata": {},
   "source": [
    "---\n",
    "<a id='intro'></a>\n",
    "## Introduction:"
   ]
  },
  {
   "cell_type": "markdown",
   "metadata": {},
   "source": [
    "Using Python, Pandas & Matplotlib to analyze and answer business questions about 12 months worth of sales data.<br> \n",
    "The data contains hundreds of thousands of electronics store purchases broken down by month, product type, cost, purchase address, etc."
   ]
  },
  {
   "cell_type": "markdown",
   "metadata": {},
   "source": [
    "---\n",
    "<a id='import'></a>\n",
    "## 1. Importing necessary libraries"
   ]
  },
  {
   "cell_type": "code",
   "execution_count": 1,
   "metadata": {},
   "outputs": [],
   "source": [
    "# import libraries\n",
    "import os\n",
    "import re\n",
    "import numpy as np\n",
    "import pandas as pd\n",
    "import matplotlib.pyplot as plt\n",
    "\n",
    "%matplotlib inline"
   ]
  },
  {
   "cell_type": "markdown",
   "metadata": {},
   "source": [
    "---\n",
    "<a id='gather'></a>\n",
    "## 2. Gathering data"
   ]
  },
  {
   "cell_type": "markdown",
   "metadata": {},
   "source": [
    "**All sales data are provided to us in a CSV format.**"
   ]
  },
  {
   "cell_type": "code",
   "execution_count": 2,
   "metadata": {},
   "outputs": [
    {
     "data": {
      "text/plain": [
       "['Sales_April_2019.csv',\n",
       " 'Sales_August_2019.csv',\n",
       " 'Sales_December_2019.csv',\n",
       " 'Sales_February_2019.csv',\n",
       " 'Sales_January_2019.csv',\n",
       " 'Sales_July_2019.csv',\n",
       " 'Sales_June_2019.csv',\n",
       " 'Sales_March_2019.csv',\n",
       " 'Sales_May_2019.csv',\n",
       " 'Sales_November_2019.csv',\n",
       " 'Sales_October_2019.csv',\n",
       " 'Sales_September_2019.csv']"
      ]
     },
     "execution_count": 2,
     "metadata": {},
     "output_type": "execute_result"
    }
   ],
   "source": [
    "os.listdir('./data/')"
   ]
  },
  {
   "cell_type": "markdown",
   "metadata": {},
   "source": [
    "---\n",
    "<a id='assess'></a>\n",
    "## 3. Assessing data"
   ]
  },
  {
   "cell_type": "code",
   "execution_count": 3,
   "metadata": {
    "scrolled": true
   },
   "outputs": [],
   "source": [
    "# exploring data\n",
    "df_jan = pd.read_csv('./data/Sales_January_2019.csv')\n",
    "df_feb = pd.read_csv('./data/Sales_February_2019.csv')\n",
    "df_mar = pd.read_csv('./data/Sales_March_2019.csv')\n",
    "df_apr = pd.read_csv('./data/Sales_April_2019.csv')\n",
    "df_may = pd.read_csv('./data/Sales_May_2019.csv')\n",
    "df_jun = pd.read_csv('./data/Sales_June_2019.csv')\n",
    "df_jul = pd.read_csv('./data/Sales_July_2019.csv')\n",
    "df_aug = pd.read_csv('./data/Sales_August_2019.csv')\n",
    "df_sep = pd.read_csv('./data/Sales_September_2019.csv')\n",
    "df_oct = pd.read_csv('./data/Sales_October_2019.csv')\n",
    "df_nov = pd.read_csv('./data/Sales_November_2019.csv')\n",
    "df_dec = pd.read_csv('./data/Sales_December_2019.csv')\n"
   ]
  },
  {
   "cell_type": "code",
   "execution_count": 4,
   "metadata": {},
   "outputs": [
    {
     "data": {
      "text/html": [
       "<div>\n",
       "<style scoped>\n",
       "    .dataframe tbody tr th:only-of-type {\n",
       "        vertical-align: middle;\n",
       "    }\n",
       "\n",
       "    .dataframe tbody tr th {\n",
       "        vertical-align: top;\n",
       "    }\n",
       "\n",
       "    .dataframe thead th {\n",
       "        text-align: right;\n",
       "    }\n",
       "</style>\n",
       "<table border=\"1\" class=\"dataframe\">\n",
       "  <thead>\n",
       "    <tr style=\"text-align: right;\">\n",
       "      <th></th>\n",
       "      <th>Order ID</th>\n",
       "      <th>Product</th>\n",
       "      <th>Quantity Ordered</th>\n",
       "      <th>Price Each</th>\n",
       "      <th>Order Date</th>\n",
       "      <th>Purchase Address</th>\n",
       "    </tr>\n",
       "  </thead>\n",
       "  <tbody>\n",
       "    <tr>\n",
       "      <th>0</th>\n",
       "      <td>141234</td>\n",
       "      <td>iPhone</td>\n",
       "      <td>1</td>\n",
       "      <td>700</td>\n",
       "      <td>01/22/19 21:25</td>\n",
       "      <td>944 Walnut St, Boston, MA 02215</td>\n",
       "    </tr>\n",
       "    <tr>\n",
       "      <th>1</th>\n",
       "      <td>141235</td>\n",
       "      <td>Lightning Charging Cable</td>\n",
       "      <td>1</td>\n",
       "      <td>14.95</td>\n",
       "      <td>01/28/19 14:15</td>\n",
       "      <td>185 Maple St, Portland, OR 97035</td>\n",
       "    </tr>\n",
       "    <tr>\n",
       "      <th>2</th>\n",
       "      <td>141236</td>\n",
       "      <td>Wired Headphones</td>\n",
       "      <td>2</td>\n",
       "      <td>11.99</td>\n",
       "      <td>01/17/19 13:33</td>\n",
       "      <td>538 Adams St, San Francisco, CA 94016</td>\n",
       "    </tr>\n",
       "    <tr>\n",
       "      <th>3</th>\n",
       "      <td>141237</td>\n",
       "      <td>27in FHD Monitor</td>\n",
       "      <td>1</td>\n",
       "      <td>149.99</td>\n",
       "      <td>01/05/19 20:33</td>\n",
       "      <td>738 10th St, Los Angeles, CA 90001</td>\n",
       "    </tr>\n",
       "    <tr>\n",
       "      <th>4</th>\n",
       "      <td>141238</td>\n",
       "      <td>Wired Headphones</td>\n",
       "      <td>1</td>\n",
       "      <td>11.99</td>\n",
       "      <td>01/25/19 11:59</td>\n",
       "      <td>387 10th St, Austin, TX 73301</td>\n",
       "    </tr>\n",
       "  </tbody>\n",
       "</table>\n",
       "</div>"
      ],
      "text/plain": [
       "  Order ID                   Product Quantity Ordered Price Each  \\\n",
       "0   141234                    iPhone                1        700   \n",
       "1   141235  Lightning Charging Cable                1      14.95   \n",
       "2   141236          Wired Headphones                2      11.99   \n",
       "3   141237          27in FHD Monitor                1     149.99   \n",
       "4   141238          Wired Headphones                1      11.99   \n",
       "\n",
       "       Order Date                       Purchase Address  \n",
       "0  01/22/19 21:25        944 Walnut St, Boston, MA 02215  \n",
       "1  01/28/19 14:15       185 Maple St, Portland, OR 97035  \n",
       "2  01/17/19 13:33  538 Adams St, San Francisco, CA 94016  \n",
       "3  01/05/19 20:33     738 10th St, Los Angeles, CA 90001  \n",
       "4  01/25/19 11:59          387 10th St, Austin, TX 73301  "
      ]
     },
     "execution_count": 4,
     "metadata": {},
     "output_type": "execute_result"
    }
   ],
   "source": [
    "df_jan.head()"
   ]
  },
  {
   "cell_type": "code",
   "execution_count": 5,
   "metadata": {},
   "outputs": [
    {
     "name": "stdout",
     "output_type": "stream",
     "text": [
      "<class 'pandas.core.frame.DataFrame'>\n",
      "RangeIndex: 9723 entries, 0 to 9722\n",
      "Data columns (total 6 columns):\n",
      " #   Column            Non-Null Count  Dtype \n",
      "---  ------            --------------  ----- \n",
      " 0   Order ID          9697 non-null   object\n",
      " 1   Product           9697 non-null   object\n",
      " 2   Quantity Ordered  9697 non-null   object\n",
      " 3   Price Each        9697 non-null   object\n",
      " 4   Order Date        9697 non-null   object\n",
      " 5   Purchase Address  9697 non-null   object\n",
      "dtypes: object(6)\n",
      "memory usage: 227.9+ KB\n"
     ]
    }
   ],
   "source": [
    "df_jan.info()"
   ]
  },
  {
   "cell_type": "code",
   "execution_count": 6,
   "metadata": {},
   "outputs": [
    {
     "data": {
      "text/plain": [
       "Order ID  Product  Quantity Ordered  Price Each  Order Date  Purchase Address\n",
       "False     False    False             False       False       False               9697\n",
       "True      True     True              True        True        True                  26\n",
       "dtype: int64"
      ]
     },
     "execution_count": 6,
     "metadata": {},
     "output_type": "execute_result"
    }
   ],
   "source": [
    "df_jan.isnull().value_counts()"
   ]
  },
  {
   "cell_type": "code",
   "execution_count": 7,
   "metadata": {
    "scrolled": false
   },
   "outputs": [
    {
     "name": "stdout",
     "output_type": "stream",
     "text": [
      "Jan: (9723, 6)\n",
      "Feb: (12036, 6)\n",
      "Mar: (15226, 6)\n",
      "Apr: (18383, 6)\n",
      "May: (16635, 6)\n",
      "Jun: (13622, 6)\n",
      "Jul: (14371, 6)\n",
      "Aug: (12011, 6)\n",
      "Sep: (11686, 6)\n",
      "Oct: (20379, 6)\n",
      "Nov: (17661, 6)\n",
      "Dec: (25117, 6)\n"
     ]
    }
   ],
   "source": [
    "print(f\"Jan: {df_jan.shape}\")\n",
    "print(f\"Feb: {df_feb.shape}\")\n",
    "print(f\"Mar: {df_mar.shape}\")\n",
    "print(f\"Apr: {df_apr.shape}\")\n",
    "print(f\"May: {df_may.shape}\")\n",
    "print(f\"Jun: {df_jun.shape}\")\n",
    "print(f\"Jul: {df_jul.shape}\")\n",
    "print(f\"Aug: {df_aug.shape}\")\n",
    "print(f\"Sep: {df_sep.shape}\")\n",
    "print(f\"Oct: {df_oct.shape}\")\n",
    "print(f\"Nov: {df_nov.shape}\")\n",
    "print(f\"Dec: {df_dec.shape}\")"
   ]
  },
  {
   "cell_type": "markdown",
   "metadata": {},
   "source": [
    "### Assessment Summary\n",
    "\n",
    "**Quality issues**\n",
    "Erroneous datatypes:\n",
    "- `Quantity Ordered` should be `float`.\n",
    "- `Price Each` should be `int`.\n",
    "- `Order Date` should be `datetime`.\n",
    "- In columns names: Replace space with underscore `_` for easy usage. (Optional)\n",
    "- Missing Values\n",
    "\n",
    "**Tidiness issues**\n",
    "- All sales data from the 12 months should be merged into one dataset.\n",
    "- `Total Price` column should be added.\n",
    "- Extact/Create other columns from existing columns."
   ]
  },
  {
   "cell_type": "markdown",
   "metadata": {},
   "source": [
    "---\n",
    "<a id='clean'></a>\n",
    "## 4. Cleaning data"
   ]
  },
  {
   "cell_type": "markdown",
   "metadata": {},
   "source": [
    "**First we merge the datasets to clean it one time**"
   ]
  },
  {
   "cell_type": "markdown",
   "metadata": {},
   "source": [
    "**Code**"
   ]
  },
  {
   "cell_type": "code",
   "execution_count": 8,
   "metadata": {},
   "outputs": [
    {
     "data": {
      "text/html": [
       "<div>\n",
       "<style scoped>\n",
       "    .dataframe tbody tr th:only-of-type {\n",
       "        vertical-align: middle;\n",
       "    }\n",
       "\n",
       "    .dataframe tbody tr th {\n",
       "        vertical-align: top;\n",
       "    }\n",
       "\n",
       "    .dataframe thead th {\n",
       "        text-align: right;\n",
       "    }\n",
       "</style>\n",
       "<table border=\"1\" class=\"dataframe\">\n",
       "  <thead>\n",
       "    <tr style=\"text-align: right;\">\n",
       "      <th></th>\n",
       "      <th>Order ID</th>\n",
       "      <th>Product</th>\n",
       "      <th>Quantity Ordered</th>\n",
       "      <th>Price Each</th>\n",
       "      <th>Order Date</th>\n",
       "      <th>Purchase Address</th>\n",
       "    </tr>\n",
       "  </thead>\n",
       "  <tbody>\n",
       "    <tr>\n",
       "      <th>0</th>\n",
       "      <td>176558</td>\n",
       "      <td>USB-C Charging Cable</td>\n",
       "      <td>2</td>\n",
       "      <td>11.95</td>\n",
       "      <td>04/19/19 08:46</td>\n",
       "      <td>917 1st St, Dallas, TX 75001</td>\n",
       "    </tr>\n",
       "    <tr>\n",
       "      <th>1</th>\n",
       "      <td>NaN</td>\n",
       "      <td>NaN</td>\n",
       "      <td>NaN</td>\n",
       "      <td>NaN</td>\n",
       "      <td>NaN</td>\n",
       "      <td>NaN</td>\n",
       "    </tr>\n",
       "    <tr>\n",
       "      <th>2</th>\n",
       "      <td>176559</td>\n",
       "      <td>Bose SoundSport Headphones</td>\n",
       "      <td>1</td>\n",
       "      <td>99.99</td>\n",
       "      <td>04/07/19 22:30</td>\n",
       "      <td>682 Chestnut St, Boston, MA 02215</td>\n",
       "    </tr>\n",
       "    <tr>\n",
       "      <th>3</th>\n",
       "      <td>176560</td>\n",
       "      <td>Google Phone</td>\n",
       "      <td>1</td>\n",
       "      <td>600</td>\n",
       "      <td>04/12/19 14:38</td>\n",
       "      <td>669 Spruce St, Los Angeles, CA 90001</td>\n",
       "    </tr>\n",
       "    <tr>\n",
       "      <th>4</th>\n",
       "      <td>176560</td>\n",
       "      <td>Wired Headphones</td>\n",
       "      <td>1</td>\n",
       "      <td>11.99</td>\n",
       "      <td>04/12/19 14:38</td>\n",
       "      <td>669 Spruce St, Los Angeles, CA 90001</td>\n",
       "    </tr>\n",
       "  </tbody>\n",
       "</table>\n",
       "</div>"
      ],
      "text/plain": [
       "  Order ID                     Product Quantity Ordered Price Each  \\\n",
       "0   176558        USB-C Charging Cable                2      11.95   \n",
       "1      NaN                         NaN              NaN        NaN   \n",
       "2   176559  Bose SoundSport Headphones                1      99.99   \n",
       "3   176560                Google Phone                1        600   \n",
       "4   176560            Wired Headphones                1      11.99   \n",
       "\n",
       "       Order Date                      Purchase Address  \n",
       "0  04/19/19 08:46          917 1st St, Dallas, TX 75001  \n",
       "1             NaN                                   NaN  \n",
       "2  04/07/19 22:30     682 Chestnut St, Boston, MA 02215  \n",
       "3  04/12/19 14:38  669 Spruce St, Los Angeles, CA 90001  \n",
       "4  04/12/19 14:38  669 Spruce St, Los Angeles, CA 90001  "
      ]
     },
     "execution_count": 8,
     "metadata": {},
     "output_type": "execute_result"
    }
   ],
   "source": [
    "df_all = pd.DataFrame()\n",
    "\n",
    "for file in os.listdir('./data/'):\n",
    "    df_temp = pd.read_csv('./data/'+file)\n",
    "    df_all = pd.concat([df_all, df_temp])\n",
    "    \n",
    "df_all.head()"
   ]
  },
  {
   "cell_type": "markdown",
   "metadata": {},
   "source": [
    "**It is a good practice to work on copies in cleaning stage**"
   ]
  },
  {
   "cell_type": "code",
   "execution_count": 9,
   "metadata": {},
   "outputs": [],
   "source": [
    "# copy\n",
    "df_all_clean = df_all.copy()"
   ]
  },
  {
   "cell_type": "markdown",
   "metadata": {},
   "source": [
    "**1. Remove `NaN` values**"
   ]
  },
  {
   "cell_type": "markdown",
   "metadata": {},
   "source": [
    "**Define**\n",
    "- Drop `NaN` values"
   ]
  },
  {
   "cell_type": "code",
   "execution_count": 10,
   "metadata": {},
   "outputs": [
    {
     "data": {
      "text/plain": [
       "Order ID  Product  Quantity Ordered  Price Each  Order Date  Purchase Address\n",
       "False     False    False             False       False       False               186305\n",
       "True      True     True              True        True        True                   545\n",
       "dtype: int64"
      ]
     },
     "execution_count": 10,
     "metadata": {},
     "output_type": "execute_result"
    }
   ],
   "source": [
    "df_all_clean.isna().value_counts()"
   ]
  },
  {
   "cell_type": "markdown",
   "metadata": {},
   "source": [
    "**Code**"
   ]
  },
  {
   "cell_type": "code",
   "execution_count": 11,
   "metadata": {},
   "outputs": [],
   "source": [
    "df_all_clean.dropna(inplace=True)"
   ]
  },
  {
   "cell_type": "markdown",
   "metadata": {},
   "source": [
    "**Test**"
   ]
  },
  {
   "cell_type": "code",
   "execution_count": 12,
   "metadata": {},
   "outputs": [
    {
     "data": {
      "text/plain": [
       "(186305, 6)"
      ]
     },
     "execution_count": 12,
     "metadata": {},
     "output_type": "execute_result"
    }
   ],
   "source": [
    "df_all_clean.shape"
   ]
  },
  {
   "cell_type": "code",
   "execution_count": 13,
   "metadata": {},
   "outputs": [
    {
     "data": {
      "text/plain": [
       "Order ID  Product  Quantity Ordered  Price Each  Order Date  Purchase Address\n",
       "False     False    False             False       False       False               186305\n",
       "dtype: int64"
      ]
     },
     "execution_count": 13,
     "metadata": {},
     "output_type": "execute_result"
    }
   ],
   "source": [
    "df_all_clean.isna().value_counts()"
   ]
  },
  {
   "cell_type": "markdown",
   "metadata": {},
   "source": [
    "**2. Rename the columns**\n"
   ]
  },
  {
   "cell_type": "markdown",
   "metadata": {},
   "source": [
    "**Define**\n",
    "- Rename the columns to a lower case and replace the white space with an underscore to easy usage"
   ]
  },
  {
   "cell_type": "markdown",
   "metadata": {},
   "source": [
    "**Code**"
   ]
  },
  {
   "cell_type": "code",
   "execution_count": 14,
   "metadata": {},
   "outputs": [],
   "source": [
    "df_all_clean.rename(columns=lambda x: x.lower().replace(' ','_'), inplace=True)"
   ]
  },
  {
   "cell_type": "markdown",
   "metadata": {},
   "source": [
    "**Test**"
   ]
  },
  {
   "cell_type": "code",
   "execution_count": 15,
   "metadata": {},
   "outputs": [
    {
     "name": "stdout",
     "output_type": "stream",
     "text": [
      "order_id\n",
      "product\n",
      "quantity_ordered\n",
      "price_each\n",
      "order_date\n",
      "purchase_address\n"
     ]
    }
   ],
   "source": [
    "for column in df_all_clean.columns:\n",
    "    print(column) "
   ]
  },
  {
   "cell_type": "markdown",
   "metadata": {},
   "source": [
    "**3. Erroneous datatypes: Quantity Ordered & Price Each Should be `float`**"
   ]
  },
  {
   "cell_type": "code",
   "execution_count": 16,
   "metadata": {},
   "outputs": [
    {
     "name": "stdout",
     "output_type": "stream",
     "text": [
      "<class 'pandas.core.frame.DataFrame'>\n",
      "Int64Index: 186305 entries, 0 to 11685\n",
      "Data columns (total 6 columns):\n",
      " #   Column            Non-Null Count   Dtype \n",
      "---  ------            --------------   ----- \n",
      " 0   order_id          186305 non-null  object\n",
      " 1   product           186305 non-null  object\n",
      " 2   quantity_ordered  186305 non-null  object\n",
      " 3   price_each        186305 non-null  object\n",
      " 4   order_date        186305 non-null  object\n",
      " 5   purchase_address  186305 non-null  object\n",
      "dtypes: object(6)\n",
      "memory usage: 5.7+ MB\n"
     ]
    }
   ],
   "source": [
    "df_all_clean.info()"
   ]
  },
  {
   "cell_type": "markdown",
   "metadata": {},
   "source": [
    "**Define**\n",
    "- Convert `Quantity Ordered` & `Price Each` to `float` using `astype()`"
   ]
  },
  {
   "cell_type": "markdown",
   "metadata": {},
   "source": [
    "**Code**"
   ]
  },
  {
   "cell_type": "code",
   "execution_count": 17,
   "metadata": {},
   "outputs": [
    {
     "data": {
      "text/plain": [
       "1                   168552\n",
       "2                    13324\n",
       "3                     2920\n",
       "4                      806\n",
       "Quantity Ordered       355\n",
       "5                      236\n",
       "6                       80\n",
       "7                       24\n",
       "8                        5\n",
       "9                        3\n",
       "Name: quantity_ordered, dtype: int64"
      ]
     },
     "execution_count": 17,
     "metadata": {},
     "output_type": "execute_result"
    }
   ],
   "source": [
    "df_all_clean.quantity_ordered.value_counts()"
   ]
  },
  {
   "cell_type": "markdown",
   "metadata": {},
   "source": [
    "**4. Remove `\"Order ID\tProduct\tQuantity Ordered\tPrice Each\tOrder Date\tPurchase Addres\"` rows** "
   ]
  },
  {
   "cell_type": "code",
   "execution_count": 18,
   "metadata": {},
   "outputs": [
    {
     "data": {
      "text/html": [
       "<div>\n",
       "<style scoped>\n",
       "    .dataframe tbody tr th:only-of-type {\n",
       "        vertical-align: middle;\n",
       "    }\n",
       "\n",
       "    .dataframe tbody tr th {\n",
       "        vertical-align: top;\n",
       "    }\n",
       "\n",
       "    .dataframe thead th {\n",
       "        text-align: right;\n",
       "    }\n",
       "</style>\n",
       "<table border=\"1\" class=\"dataframe\">\n",
       "  <thead>\n",
       "    <tr style=\"text-align: right;\">\n",
       "      <th></th>\n",
       "      <th>order_id</th>\n",
       "      <th>product</th>\n",
       "      <th>quantity_ordered</th>\n",
       "      <th>price_each</th>\n",
       "      <th>order_date</th>\n",
       "      <th>purchase_address</th>\n",
       "    </tr>\n",
       "  </thead>\n",
       "  <tbody>\n",
       "    <tr>\n",
       "      <th>519</th>\n",
       "      <td>Order ID</td>\n",
       "      <td>Product</td>\n",
       "      <td>Quantity Ordered</td>\n",
       "      <td>Price Each</td>\n",
       "      <td>Order Date</td>\n",
       "      <td>Purchase Address</td>\n",
       "    </tr>\n",
       "    <tr>\n",
       "      <th>1149</th>\n",
       "      <td>Order ID</td>\n",
       "      <td>Product</td>\n",
       "      <td>Quantity Ordered</td>\n",
       "      <td>Price Each</td>\n",
       "      <td>Order Date</td>\n",
       "      <td>Purchase Address</td>\n",
       "    </tr>\n",
       "    <tr>\n",
       "      <th>1155</th>\n",
       "      <td>Order ID</td>\n",
       "      <td>Product</td>\n",
       "      <td>Quantity Ordered</td>\n",
       "      <td>Price Each</td>\n",
       "      <td>Order Date</td>\n",
       "      <td>Purchase Address</td>\n",
       "    </tr>\n",
       "    <tr>\n",
       "      <th>2878</th>\n",
       "      <td>Order ID</td>\n",
       "      <td>Product</td>\n",
       "      <td>Quantity Ordered</td>\n",
       "      <td>Price Each</td>\n",
       "      <td>Order Date</td>\n",
       "      <td>Purchase Address</td>\n",
       "    </tr>\n",
       "    <tr>\n",
       "      <th>2893</th>\n",
       "      <td>Order ID</td>\n",
       "      <td>Product</td>\n",
       "      <td>Quantity Ordered</td>\n",
       "      <td>Price Each</td>\n",
       "      <td>Order Date</td>\n",
       "      <td>Purchase Address</td>\n",
       "    </tr>\n",
       "    <tr>\n",
       "      <th>...</th>\n",
       "      <td>...</td>\n",
       "      <td>...</td>\n",
       "      <td>...</td>\n",
       "      <td>...</td>\n",
       "      <td>...</td>\n",
       "      <td>...</td>\n",
       "    </tr>\n",
       "    <tr>\n",
       "      <th>10000</th>\n",
       "      <td>Order ID</td>\n",
       "      <td>Product</td>\n",
       "      <td>Quantity Ordered</td>\n",
       "      <td>Price Each</td>\n",
       "      <td>Order Date</td>\n",
       "      <td>Purchase Address</td>\n",
       "    </tr>\n",
       "    <tr>\n",
       "      <th>10387</th>\n",
       "      <td>Order ID</td>\n",
       "      <td>Product</td>\n",
       "      <td>Quantity Ordered</td>\n",
       "      <td>Price Each</td>\n",
       "      <td>Order Date</td>\n",
       "      <td>Purchase Address</td>\n",
       "    </tr>\n",
       "    <tr>\n",
       "      <th>11399</th>\n",
       "      <td>Order ID</td>\n",
       "      <td>Product</td>\n",
       "      <td>Quantity Ordered</td>\n",
       "      <td>Price Each</td>\n",
       "      <td>Order Date</td>\n",
       "      <td>Purchase Address</td>\n",
       "    </tr>\n",
       "    <tr>\n",
       "      <th>11468</th>\n",
       "      <td>Order ID</td>\n",
       "      <td>Product</td>\n",
       "      <td>Quantity Ordered</td>\n",
       "      <td>Price Each</td>\n",
       "      <td>Order Date</td>\n",
       "      <td>Purchase Address</td>\n",
       "    </tr>\n",
       "    <tr>\n",
       "      <th>11574</th>\n",
       "      <td>Order ID</td>\n",
       "      <td>Product</td>\n",
       "      <td>Quantity Ordered</td>\n",
       "      <td>Price Each</td>\n",
       "      <td>Order Date</td>\n",
       "      <td>Purchase Address</td>\n",
       "    </tr>\n",
       "  </tbody>\n",
       "</table>\n",
       "<p>355 rows × 6 columns</p>\n",
       "</div>"
      ],
      "text/plain": [
       "       order_id  product  quantity_ordered  price_each  order_date  \\\n",
       "519    Order ID  Product  Quantity Ordered  Price Each  Order Date   \n",
       "1149   Order ID  Product  Quantity Ordered  Price Each  Order Date   \n",
       "1155   Order ID  Product  Quantity Ordered  Price Each  Order Date   \n",
       "2878   Order ID  Product  Quantity Ordered  Price Each  Order Date   \n",
       "2893   Order ID  Product  Quantity Ordered  Price Each  Order Date   \n",
       "...         ...      ...               ...         ...         ...   \n",
       "10000  Order ID  Product  Quantity Ordered  Price Each  Order Date   \n",
       "10387  Order ID  Product  Quantity Ordered  Price Each  Order Date   \n",
       "11399  Order ID  Product  Quantity Ordered  Price Each  Order Date   \n",
       "11468  Order ID  Product  Quantity Ordered  Price Each  Order Date   \n",
       "11574  Order ID  Product  Quantity Ordered  Price Each  Order Date   \n",
       "\n",
       "       purchase_address  \n",
       "519    Purchase Address  \n",
       "1149   Purchase Address  \n",
       "1155   Purchase Address  \n",
       "2878   Purchase Address  \n",
       "2893   Purchase Address  \n",
       "...                 ...  \n",
       "10000  Purchase Address  \n",
       "10387  Purchase Address  \n",
       "11399  Purchase Address  \n",
       "11468  Purchase Address  \n",
       "11574  Purchase Address  \n",
       "\n",
       "[355 rows x 6 columns]"
      ]
     },
     "execution_count": 18,
     "metadata": {},
     "output_type": "execute_result"
    }
   ],
   "source": [
    "df_all_clean.query('quantity_ordered == \"Quantity Ordered\"')"
   ]
  },
  {
   "cell_type": "code",
   "execution_count": 19,
   "metadata": {},
   "outputs": [],
   "source": [
    "df_all_clean.drop(df_all_clean.index[df_all_clean.quantity_ordered == \"Quantity Ordered\"], inplace = True)"
   ]
  },
  {
   "cell_type": "markdown",
   "metadata": {},
   "source": [
    "**Test**"
   ]
  },
  {
   "cell_type": "code",
   "execution_count": 20,
   "metadata": {},
   "outputs": [
    {
     "data": {
      "text/html": [
       "<div>\n",
       "<style scoped>\n",
       "    .dataframe tbody tr th:only-of-type {\n",
       "        vertical-align: middle;\n",
       "    }\n",
       "\n",
       "    .dataframe tbody tr th {\n",
       "        vertical-align: top;\n",
       "    }\n",
       "\n",
       "    .dataframe thead th {\n",
       "        text-align: right;\n",
       "    }\n",
       "</style>\n",
       "<table border=\"1\" class=\"dataframe\">\n",
       "  <thead>\n",
       "    <tr style=\"text-align: right;\">\n",
       "      <th></th>\n",
       "      <th>order_id</th>\n",
       "      <th>product</th>\n",
       "      <th>quantity_ordered</th>\n",
       "      <th>price_each</th>\n",
       "      <th>order_date</th>\n",
       "      <th>purchase_address</th>\n",
       "    </tr>\n",
       "  </thead>\n",
       "  <tbody>\n",
       "  </tbody>\n",
       "</table>\n",
       "</div>"
      ],
      "text/plain": [
       "Empty DataFrame\n",
       "Columns: [order_id, product, quantity_ordered, price_each, order_date, purchase_address]\n",
       "Index: []"
      ]
     },
     "execution_count": 20,
     "metadata": {},
     "output_type": "execute_result"
    }
   ],
   "source": [
    "df_all_clean.query('quantity_ordered == \"Quantity Ordered\"')"
   ]
  },
  {
   "cell_type": "markdown",
   "metadata": {},
   "source": [
    "**5. Convert the data type**"
   ]
  },
  {
   "cell_type": "markdown",
   "metadata": {},
   "source": [
    "**Code**"
   ]
  },
  {
   "cell_type": "code",
   "execution_count": 21,
   "metadata": {},
   "outputs": [],
   "source": [
    "df_all_clean.quantity_ordered = df_all_clean.quantity_ordered.astype(float)\n",
    "df_all_clean.price_each = df_all_clean.price_each.astype(float)"
   ]
  },
  {
   "cell_type": "code",
   "execution_count": 22,
   "metadata": {},
   "outputs": [],
   "source": [
    "df_all_clean.order_date = pd.to_datetime(df_all_clean.order_date)"
   ]
  },
  {
   "cell_type": "markdown",
   "metadata": {},
   "source": [
    "**Test**"
   ]
  },
  {
   "cell_type": "code",
   "execution_count": 23,
   "metadata": {},
   "outputs": [
    {
     "name": "stdout",
     "output_type": "stream",
     "text": [
      "<class 'pandas.core.frame.DataFrame'>\n",
      "Int64Index: 182735 entries, 0 to 11685\n",
      "Data columns (total 6 columns):\n",
      " #   Column            Non-Null Count   Dtype         \n",
      "---  ------            --------------   -----         \n",
      " 0   order_id          182735 non-null  object        \n",
      " 1   product           182735 non-null  object        \n",
      " 2   quantity_ordered  182735 non-null  float64       \n",
      " 3   price_each        182735 non-null  float64       \n",
      " 4   order_date        182735 non-null  datetime64[ns]\n",
      " 5   purchase_address  182735 non-null  object        \n",
      "dtypes: datetime64[ns](1), float64(2), object(3)\n",
      "memory usage: 7.7+ MB\n"
     ]
    }
   ],
   "source": [
    "df_all_clean.info()"
   ]
  },
  {
   "cell_type": "markdown",
   "metadata": {},
   "source": [
    "**6. Create `month` column from `order_date`**"
   ]
  },
  {
   "cell_type": "markdown",
   "metadata": {},
   "source": [
    "**Define**\n",
    "- Create `month` column from `order_date` column using `month_name()` function"
   ]
  },
  {
   "cell_type": "markdown",
   "metadata": {},
   "source": [
    "**Code**"
   ]
  },
  {
   "cell_type": "code",
   "execution_count": 24,
   "metadata": {},
   "outputs": [],
   "source": [
    "df_all_clean['month'] = df_all_clean.order_date.dt.month_name()"
   ]
  },
  {
   "cell_type": "markdown",
   "metadata": {},
   "source": [
    "**Test**"
   ]
  },
  {
   "cell_type": "code",
   "execution_count": 25,
   "metadata": {
    "scrolled": true
   },
   "outputs": [
    {
     "data": {
      "text/html": [
       "<div>\n",
       "<style scoped>\n",
       "    .dataframe tbody tr th:only-of-type {\n",
       "        vertical-align: middle;\n",
       "    }\n",
       "\n",
       "    .dataframe tbody tr th {\n",
       "        vertical-align: top;\n",
       "    }\n",
       "\n",
       "    .dataframe thead th {\n",
       "        text-align: right;\n",
       "    }\n",
       "</style>\n",
       "<table border=\"1\" class=\"dataframe\">\n",
       "  <thead>\n",
       "    <tr style=\"text-align: right;\">\n",
       "      <th></th>\n",
       "      <th>order_id</th>\n",
       "      <th>product</th>\n",
       "      <th>quantity_ordered</th>\n",
       "      <th>price_each</th>\n",
       "      <th>order_date</th>\n",
       "      <th>purchase_address</th>\n",
       "      <th>month</th>\n",
       "    </tr>\n",
       "  </thead>\n",
       "  <tbody>\n",
       "    <tr>\n",
       "      <th>0</th>\n",
       "      <td>176558</td>\n",
       "      <td>USB-C Charging Cable</td>\n",
       "      <td>2.0</td>\n",
       "      <td>11.95</td>\n",
       "      <td>2019-04-19 08:46:00</td>\n",
       "      <td>917 1st St, Dallas, TX 75001</td>\n",
       "      <td>April</td>\n",
       "    </tr>\n",
       "    <tr>\n",
       "      <th>2</th>\n",
       "      <td>176559</td>\n",
       "      <td>Bose SoundSport Headphones</td>\n",
       "      <td>1.0</td>\n",
       "      <td>99.99</td>\n",
       "      <td>2019-04-07 22:30:00</td>\n",
       "      <td>682 Chestnut St, Boston, MA 02215</td>\n",
       "      <td>April</td>\n",
       "    </tr>\n",
       "    <tr>\n",
       "      <th>3</th>\n",
       "      <td>176560</td>\n",
       "      <td>Google Phone</td>\n",
       "      <td>1.0</td>\n",
       "      <td>600.00</td>\n",
       "      <td>2019-04-12 14:38:00</td>\n",
       "      <td>669 Spruce St, Los Angeles, CA 90001</td>\n",
       "      <td>April</td>\n",
       "    </tr>\n",
       "    <tr>\n",
       "      <th>4</th>\n",
       "      <td>176560</td>\n",
       "      <td>Wired Headphones</td>\n",
       "      <td>1.0</td>\n",
       "      <td>11.99</td>\n",
       "      <td>2019-04-12 14:38:00</td>\n",
       "      <td>669 Spruce St, Los Angeles, CA 90001</td>\n",
       "      <td>April</td>\n",
       "    </tr>\n",
       "    <tr>\n",
       "      <th>5</th>\n",
       "      <td>176561</td>\n",
       "      <td>Wired Headphones</td>\n",
       "      <td>1.0</td>\n",
       "      <td>11.99</td>\n",
       "      <td>2019-04-30 09:27:00</td>\n",
       "      <td>333 8th St, Los Angeles, CA 90001</td>\n",
       "      <td>April</td>\n",
       "    </tr>\n",
       "  </tbody>\n",
       "</table>\n",
       "</div>"
      ],
      "text/plain": [
       "  order_id                     product  quantity_ordered  price_each  \\\n",
       "0   176558        USB-C Charging Cable               2.0       11.95   \n",
       "2   176559  Bose SoundSport Headphones               1.0       99.99   \n",
       "3   176560                Google Phone               1.0      600.00   \n",
       "4   176560            Wired Headphones               1.0       11.99   \n",
       "5   176561            Wired Headphones               1.0       11.99   \n",
       "\n",
       "           order_date                      purchase_address  month  \n",
       "0 2019-04-19 08:46:00          917 1st St, Dallas, TX 75001  April  \n",
       "2 2019-04-07 22:30:00     682 Chestnut St, Boston, MA 02215  April  \n",
       "3 2019-04-12 14:38:00  669 Spruce St, Los Angeles, CA 90001  April  \n",
       "4 2019-04-12 14:38:00  669 Spruce St, Los Angeles, CA 90001  April  \n",
       "5 2019-04-30 09:27:00     333 8th St, Los Angeles, CA 90001  April  "
      ]
     },
     "execution_count": 25,
     "metadata": {},
     "output_type": "execute_result"
    }
   ],
   "source": [
    "df_all_clean.head()"
   ]
  },
  {
   "cell_type": "markdown",
   "metadata": {},
   "source": [
    "**7. Create `total_sales` column**"
   ]
  },
  {
   "cell_type": "markdown",
   "metadata": {},
   "source": [
    "**Define**\n",
    "- Create `total_sales` column\n",
    "- `total_price = quantity_ordered * price_each`"
   ]
  },
  {
   "cell_type": "markdown",
   "metadata": {},
   "source": [
    "**Code**"
   ]
  },
  {
   "cell_type": "code",
   "execution_count": 26,
   "metadata": {},
   "outputs": [],
   "source": [
    "df_all_clean['total_sales'] = df_all_clean.quantity_ordered * df_all_clean.price_each"
   ]
  },
  {
   "cell_type": "markdown",
   "metadata": {},
   "source": [
    "**Test**"
   ]
  },
  {
   "cell_type": "code",
   "execution_count": 27,
   "metadata": {},
   "outputs": [
    {
     "data": {
      "text/html": [
       "<div>\n",
       "<style scoped>\n",
       "    .dataframe tbody tr th:only-of-type {\n",
       "        vertical-align: middle;\n",
       "    }\n",
       "\n",
       "    .dataframe tbody tr th {\n",
       "        vertical-align: top;\n",
       "    }\n",
       "\n",
       "    .dataframe thead th {\n",
       "        text-align: right;\n",
       "    }\n",
       "</style>\n",
       "<table border=\"1\" class=\"dataframe\">\n",
       "  <thead>\n",
       "    <tr style=\"text-align: right;\">\n",
       "      <th></th>\n",
       "      <th>order_id</th>\n",
       "      <th>product</th>\n",
       "      <th>quantity_ordered</th>\n",
       "      <th>price_each</th>\n",
       "      <th>order_date</th>\n",
       "      <th>purchase_address</th>\n",
       "      <th>month</th>\n",
       "      <th>total_sales</th>\n",
       "    </tr>\n",
       "  </thead>\n",
       "  <tbody>\n",
       "    <tr>\n",
       "      <th>13640</th>\n",
       "      <td>308678</td>\n",
       "      <td>27in 4K Gaming Monitor</td>\n",
       "      <td>1.0</td>\n",
       "      <td>389.99</td>\n",
       "      <td>2019-12-06 21:17:00</td>\n",
       "      <td>968 12th St, San Francisco, CA 94016</td>\n",
       "      <td>December</td>\n",
       "      <td>389.99</td>\n",
       "    </tr>\n",
       "    <tr>\n",
       "      <th>7734</th>\n",
       "      <td>169393</td>\n",
       "      <td>USB-C Charging Cable</td>\n",
       "      <td>1.0</td>\n",
       "      <td>11.95</td>\n",
       "      <td>2019-03-04 10:57:00</td>\n",
       "      <td>758 Chestnut St, San Francisco, CA 94016</td>\n",
       "      <td>March</td>\n",
       "      <td>11.95</td>\n",
       "    </tr>\n",
       "    <tr>\n",
       "      <th>6899</th>\n",
       "      <td>183142</td>\n",
       "      <td>Flatscreen TV</td>\n",
       "      <td>1.0</td>\n",
       "      <td>300.00</td>\n",
       "      <td>2019-04-11 09:30:00</td>\n",
       "      <td>334 Pine St, Boston, MA 02215</td>\n",
       "      <td>April</td>\n",
       "      <td>300.00</td>\n",
       "    </tr>\n",
       "    <tr>\n",
       "      <th>12838</th>\n",
       "      <td>235200</td>\n",
       "      <td>AA Batteries (4-pack)</td>\n",
       "      <td>2.0</td>\n",
       "      <td>3.84</td>\n",
       "      <td>2019-07-01 07:48:00</td>\n",
       "      <td>229 Walnut St, Atlanta, GA 30301</td>\n",
       "      <td>July</td>\n",
       "      <td>7.68</td>\n",
       "    </tr>\n",
       "    <tr>\n",
       "      <th>4542</th>\n",
       "      <td>241028</td>\n",
       "      <td>Lightning Charging Cable</td>\n",
       "      <td>1.0</td>\n",
       "      <td>14.95</td>\n",
       "      <td>2019-08-26 00:18:00</td>\n",
       "      <td>43 Lake St, Dallas, TX 75001</td>\n",
       "      <td>August</td>\n",
       "      <td>14.95</td>\n",
       "    </tr>\n",
       "  </tbody>\n",
       "</table>\n",
       "</div>"
      ],
      "text/plain": [
       "      order_id                   product  quantity_ordered  price_each  \\\n",
       "13640   308678    27in 4K Gaming Monitor               1.0      389.99   \n",
       "7734    169393      USB-C Charging Cable               1.0       11.95   \n",
       "6899    183142             Flatscreen TV               1.0      300.00   \n",
       "12838   235200     AA Batteries (4-pack)               2.0        3.84   \n",
       "4542    241028  Lightning Charging Cable               1.0       14.95   \n",
       "\n",
       "               order_date                          purchase_address     month  \\\n",
       "13640 2019-12-06 21:17:00      968 12th St, San Francisco, CA 94016  December   \n",
       "7734  2019-03-04 10:57:00  758 Chestnut St, San Francisco, CA 94016     March   \n",
       "6899  2019-04-11 09:30:00             334 Pine St, Boston, MA 02215     April   \n",
       "12838 2019-07-01 07:48:00          229 Walnut St, Atlanta, GA 30301      July   \n",
       "4542  2019-08-26 00:18:00              43 Lake St, Dallas, TX 75001    August   \n",
       "\n",
       "       total_sales  \n",
       "13640       389.99  \n",
       "7734         11.95  \n",
       "6899        300.00  \n",
       "12838         7.68  \n",
       "4542         14.95  "
      ]
     },
     "execution_count": 27,
     "metadata": {},
     "output_type": "execute_result"
    }
   ],
   "source": [
    "df_all_clean.sample(5)"
   ]
  },
  {
   "cell_type": "markdown",
   "metadata": {},
   "source": [
    "**8. Create `city` column**"
   ]
  },
  {
   "cell_type": "markdown",
   "metadata": {},
   "source": [
    "**Define**\n",
    "- Extact city name from purchase_address using regular expression"
   ]
  },
  {
   "cell_type": "code",
   "execution_count": 28,
   "metadata": {},
   "outputs": [
    {
     "data": {
      "text/plain": [
       "7874        390 South St, Los Angeles, CA 90001\n",
       "302               983 Main St, Boston, MA 02215\n",
       "12076        594 Pine St, Los Angeles, CA 90001\n",
       "9579       902 Lake St, San Francisco, CA 94016\n",
       "9487             917 10th St, Atlanta, GA 30301\n",
       "8447     471 Walnut St, New York City, NY 10001\n",
       "14278    728 Cherry St, San Francisco, CA 94016\n",
       "15671         250 Madison St, Seattle, WA 98101\n",
       "11544              805 6th St, Austin, TX 73301\n",
       "18418              448 8th St, Boston, MA 02215\n",
       "Name: purchase_address, dtype: object"
      ]
     },
     "execution_count": 28,
     "metadata": {},
     "output_type": "execute_result"
    }
   ],
   "source": [
    "df_all_clean.sample(10)['purchase_address']"
   ]
  },
  {
   "cell_type": "markdown",
   "metadata": {},
   "source": [
    "**Code**"
   ]
  },
  {
   "cell_type": "code",
   "execution_count": 29,
   "metadata": {},
   "outputs": [
    {
     "name": "stdout",
     "output_type": "stream",
     "text": [
      "['Atlanta, GA'] ['New York City, NY'] ['Los Angeles, CA']\n"
     ]
    }
   ],
   "source": [
    "# test\n",
    "test_pattern = re.compile(r'(?:St,\\s)(\\w+\\s?\\w+\\s?\\w+\\s?,\\s\\w+)')\n",
    "\n",
    "test_text1 = \"23 Johnson St, Atlanta, GA 30301\"\n",
    "test_text2 = \"854 Adams St, New York City, NY 10001\"\n",
    "test_text3 = \"315 Cedar St, Los Angeles, CA 90001\"\n",
    "\n",
    "resutl1 = re.findall(test_pattern, test_text1)\n",
    "resutl2 = re.findall(test_pattern, test_text2)\n",
    "resutl3 = re.findall(test_pattern, test_text3)\n",
    "\n",
    "print(resutl1, resutl2, resutl3)"
   ]
  },
  {
   "cell_type": "code",
   "execution_count": 30,
   "metadata": {},
   "outputs": [],
   "source": [
    "pattern = r'(?:St,\\s)(\\w+\\s?\\w+\\s?\\w+\\s?,\\s\\w+)'\n",
    "df_all_clean['city'] = df_all_clean.purchase_address.str.extract(pattern)"
   ]
  },
  {
   "cell_type": "markdown",
   "metadata": {},
   "source": [
    "**Test**"
   ]
  },
  {
   "cell_type": "code",
   "execution_count": 31,
   "metadata": {},
   "outputs": [
    {
     "data": {
      "text/html": [
       "<div>\n",
       "<style scoped>\n",
       "    .dataframe tbody tr th:only-of-type {\n",
       "        vertical-align: middle;\n",
       "    }\n",
       "\n",
       "    .dataframe tbody tr th {\n",
       "        vertical-align: top;\n",
       "    }\n",
       "\n",
       "    .dataframe thead th {\n",
       "        text-align: right;\n",
       "    }\n",
       "</style>\n",
       "<table border=\"1\" class=\"dataframe\">\n",
       "  <thead>\n",
       "    <tr style=\"text-align: right;\">\n",
       "      <th></th>\n",
       "      <th>purchase_address</th>\n",
       "      <th>city</th>\n",
       "    </tr>\n",
       "  </thead>\n",
       "  <tbody>\n",
       "    <tr>\n",
       "      <th>14821</th>\n",
       "      <td>906 Hill St, Los Angeles, CA 90001</td>\n",
       "      <td>Los Angeles, CA</td>\n",
       "    </tr>\n",
       "    <tr>\n",
       "      <th>9634</th>\n",
       "      <td>278 Johnson St, Boston, MA 02215</td>\n",
       "      <td>Boston, MA</td>\n",
       "    </tr>\n",
       "    <tr>\n",
       "      <th>11107</th>\n",
       "      <td>719 South St, San Francisco, CA 94016</td>\n",
       "      <td>San Francisco, CA</td>\n",
       "    </tr>\n",
       "    <tr>\n",
       "      <th>1823</th>\n",
       "      <td>129 Park St, Boston, MA 02215</td>\n",
       "      <td>Boston, MA</td>\n",
       "    </tr>\n",
       "    <tr>\n",
       "      <th>1244</th>\n",
       "      <td>825 South St, Boston, MA 02215</td>\n",
       "      <td>Boston, MA</td>\n",
       "    </tr>\n",
       "    <tr>\n",
       "      <th>8072</th>\n",
       "      <td>674 Elm St, Atlanta, GA 30301</td>\n",
       "      <td>Atlanta, GA</td>\n",
       "    </tr>\n",
       "    <tr>\n",
       "      <th>3337</th>\n",
       "      <td>713 11th St, New York City, NY 10001</td>\n",
       "      <td>New York City, NY</td>\n",
       "    </tr>\n",
       "    <tr>\n",
       "      <th>1255</th>\n",
       "      <td>294 12th St, Los Angeles, CA 90001</td>\n",
       "      <td>Los Angeles, CA</td>\n",
       "    </tr>\n",
       "    <tr>\n",
       "      <th>13530</th>\n",
       "      <td>87 Church St, Los Angeles, CA 90001</td>\n",
       "      <td>Los Angeles, CA</td>\n",
       "    </tr>\n",
       "    <tr>\n",
       "      <th>8452</th>\n",
       "      <td>861 Hickory St, San Francisco, CA 94016</td>\n",
       "      <td>San Francisco, CA</td>\n",
       "    </tr>\n",
       "    <tr>\n",
       "      <th>15048</th>\n",
       "      <td>967 North St, Atlanta, GA 30301</td>\n",
       "      <td>Atlanta, GA</td>\n",
       "    </tr>\n",
       "    <tr>\n",
       "      <th>6640</th>\n",
       "      <td>714 Willow St, Boston, MA 02215</td>\n",
       "      <td>Boston, MA</td>\n",
       "    </tr>\n",
       "    <tr>\n",
       "      <th>5169</th>\n",
       "      <td>479 Hickory St, Seattle, WA 98101</td>\n",
       "      <td>Seattle, WA</td>\n",
       "    </tr>\n",
       "    <tr>\n",
       "      <th>2247</th>\n",
       "      <td>330 Ridge St, Dallas, TX 75001</td>\n",
       "      <td>Dallas, TX</td>\n",
       "    </tr>\n",
       "    <tr>\n",
       "      <th>17194</th>\n",
       "      <td>713 1st St, Dallas, TX 75001</td>\n",
       "      <td>Dallas, TX</td>\n",
       "    </tr>\n",
       "    <tr>\n",
       "      <th>1413</th>\n",
       "      <td>673 Sunset St, San Francisco, CA 94016</td>\n",
       "      <td>San Francisco, CA</td>\n",
       "    </tr>\n",
       "    <tr>\n",
       "      <th>798</th>\n",
       "      <td>95 Ridge St, Los Angeles, CA 90001</td>\n",
       "      <td>Los Angeles, CA</td>\n",
       "    </tr>\n",
       "    <tr>\n",
       "      <th>4133</th>\n",
       "      <td>789 Main St, Los Angeles, CA 90001</td>\n",
       "      <td>Los Angeles, CA</td>\n",
       "    </tr>\n",
       "    <tr>\n",
       "      <th>10508</th>\n",
       "      <td>106 Cherry St, Los Angeles, CA 90001</td>\n",
       "      <td>Los Angeles, CA</td>\n",
       "    </tr>\n",
       "    <tr>\n",
       "      <th>8292</th>\n",
       "      <td>681 11th St, Boston, MA 02215</td>\n",
       "      <td>Boston, MA</td>\n",
       "    </tr>\n",
       "  </tbody>\n",
       "</table>\n",
       "</div>"
      ],
      "text/plain": [
       "                              purchase_address               city\n",
       "14821       906 Hill St, Los Angeles, CA 90001    Los Angeles, CA\n",
       "9634          278 Johnson St, Boston, MA 02215         Boston, MA\n",
       "11107    719 South St, San Francisco, CA 94016  San Francisco, CA\n",
       "1823             129 Park St, Boston, MA 02215         Boston, MA\n",
       "1244            825 South St, Boston, MA 02215         Boston, MA\n",
       "8072             674 Elm St, Atlanta, GA 30301        Atlanta, GA\n",
       "3337      713 11th St, New York City, NY 10001  New York City, NY\n",
       "1255        294 12th St, Los Angeles, CA 90001    Los Angeles, CA\n",
       "13530      87 Church St, Los Angeles, CA 90001    Los Angeles, CA\n",
       "8452   861 Hickory St, San Francisco, CA 94016  San Francisco, CA\n",
       "15048          967 North St, Atlanta, GA 30301        Atlanta, GA\n",
       "6640           714 Willow St, Boston, MA 02215         Boston, MA\n",
       "5169         479 Hickory St, Seattle, WA 98101        Seattle, WA\n",
       "2247            330 Ridge St, Dallas, TX 75001         Dallas, TX\n",
       "17194             713 1st St, Dallas, TX 75001         Dallas, TX\n",
       "1413    673 Sunset St, San Francisco, CA 94016  San Francisco, CA\n",
       "798         95 Ridge St, Los Angeles, CA 90001    Los Angeles, CA\n",
       "4133        789 Main St, Los Angeles, CA 90001    Los Angeles, CA\n",
       "10508     106 Cherry St, Los Angeles, CA 90001    Los Angeles, CA\n",
       "8292             681 11th St, Boston, MA 02215         Boston, MA"
      ]
     },
     "execution_count": 31,
     "metadata": {},
     "output_type": "execute_result"
    }
   ],
   "source": [
    "df_all_clean.sample(20)[['purchase_address', 'city']]"
   ]
  },
  {
   "cell_type": "markdown",
   "metadata": {},
   "source": [
    "**Another way**\n",
    "Use `apply()` method on df_all.purchase_address with `lambda`\n",
    "```\n",
    "df_all['city'] = df_all.purchase_address.apply(lambda x: x.split(',')[1])\n",
    "```"
   ]
  },
  {
   "cell_type": "markdown",
   "metadata": {},
   "source": [
    "**9. Create `hour` column**"
   ]
  },
  {
   "cell_type": "markdown",
   "metadata": {},
   "source": [
    "**Define**\n",
    "- Extract time from `order_date` column using `datetime.dt.hour`"
   ]
  },
  {
   "cell_type": "code",
   "execution_count": 32,
   "metadata": {},
   "outputs": [],
   "source": [
    "df_all_clean['hour'] = df_all_clean.order_date.dt.hour"
   ]
  },
  {
   "cell_type": "markdown",
   "metadata": {},
   "source": [
    "**Test**"
   ]
  },
  {
   "cell_type": "code",
   "execution_count": 33,
   "metadata": {},
   "outputs": [
    {
     "data": {
      "text/html": [
       "<div>\n",
       "<style scoped>\n",
       "    .dataframe tbody tr th:only-of-type {\n",
       "        vertical-align: middle;\n",
       "    }\n",
       "\n",
       "    .dataframe tbody tr th {\n",
       "        vertical-align: top;\n",
       "    }\n",
       "\n",
       "    .dataframe thead th {\n",
       "        text-align: right;\n",
       "    }\n",
       "</style>\n",
       "<table border=\"1\" class=\"dataframe\">\n",
       "  <thead>\n",
       "    <tr style=\"text-align: right;\">\n",
       "      <th></th>\n",
       "      <th>order_date</th>\n",
       "      <th>hour</th>\n",
       "    </tr>\n",
       "  </thead>\n",
       "  <tbody>\n",
       "    <tr>\n",
       "      <th>14705</th>\n",
       "      <td>2019-10-31 21:10:00</td>\n",
       "      <td>21</td>\n",
       "    </tr>\n",
       "    <tr>\n",
       "      <th>2448</th>\n",
       "      <td>2019-11-04 12:51:00</td>\n",
       "      <td>12</td>\n",
       "    </tr>\n",
       "    <tr>\n",
       "      <th>2090</th>\n",
       "      <td>2019-08-23 11:36:00</td>\n",
       "      <td>11</td>\n",
       "    </tr>\n",
       "    <tr>\n",
       "      <th>573</th>\n",
       "      <td>2019-07-25 20:58:00</td>\n",
       "      <td>20</td>\n",
       "    </tr>\n",
       "    <tr>\n",
       "      <th>1409</th>\n",
       "      <td>2019-09-20 18:52:00</td>\n",
       "      <td>18</td>\n",
       "    </tr>\n",
       "    <tr>\n",
       "      <th>1419</th>\n",
       "      <td>2019-01-09 11:52:00</td>\n",
       "      <td>11</td>\n",
       "    </tr>\n",
       "    <tr>\n",
       "      <th>18708</th>\n",
       "      <td>2019-10-17 13:28:00</td>\n",
       "      <td>13</td>\n",
       "    </tr>\n",
       "    <tr>\n",
       "      <th>9752</th>\n",
       "      <td>2019-11-13 00:53:00</td>\n",
       "      <td>0</td>\n",
       "    </tr>\n",
       "    <tr>\n",
       "      <th>4778</th>\n",
       "      <td>2019-04-17 09:49:00</td>\n",
       "      <td>9</td>\n",
       "    </tr>\n",
       "    <tr>\n",
       "      <th>8901</th>\n",
       "      <td>2019-02-04 10:40:00</td>\n",
       "      <td>10</td>\n",
       "    </tr>\n",
       "  </tbody>\n",
       "</table>\n",
       "</div>"
      ],
      "text/plain": [
       "               order_date  hour\n",
       "14705 2019-10-31 21:10:00    21\n",
       "2448  2019-11-04 12:51:00    12\n",
       "2090  2019-08-23 11:36:00    11\n",
       "573   2019-07-25 20:58:00    20\n",
       "1409  2019-09-20 18:52:00    18\n",
       "1419  2019-01-09 11:52:00    11\n",
       "18708 2019-10-17 13:28:00    13\n",
       "9752  2019-11-13 00:53:00     0\n",
       "4778  2019-04-17 09:49:00     9\n",
       "8901  2019-02-04 10:40:00    10"
      ]
     },
     "execution_count": 33,
     "metadata": {},
     "output_type": "execute_result"
    }
   ],
   "source": [
    "df_all_clean.sample(10)[['order_date', 'hour']]"
   ]
  },
  {
   "cell_type": "markdown",
   "metadata": {},
   "source": [
    "---\n",
    "<a id='store'></a>\n",
    "## 5. Storing cleaned data"
   ]
  },
  {
   "cell_type": "code",
   "execution_count": 34,
   "metadata": {},
   "outputs": [],
   "source": [
    "df_all_clean.to_csv('./output/all_data_master.csv', index=False)"
   ]
  },
  {
   "cell_type": "code",
   "execution_count": 35,
   "metadata": {},
   "outputs": [
    {
     "data": {
      "text/html": [
       "<div>\n",
       "<style scoped>\n",
       "    .dataframe tbody tr th:only-of-type {\n",
       "        vertical-align: middle;\n",
       "    }\n",
       "\n",
       "    .dataframe tbody tr th {\n",
       "        vertical-align: top;\n",
       "    }\n",
       "\n",
       "    .dataframe thead th {\n",
       "        text-align: right;\n",
       "    }\n",
       "</style>\n",
       "<table border=\"1\" class=\"dataframe\">\n",
       "  <thead>\n",
       "    <tr style=\"text-align: right;\">\n",
       "      <th></th>\n",
       "      <th>order_id</th>\n",
       "      <th>product</th>\n",
       "      <th>quantity_ordered</th>\n",
       "      <th>price_each</th>\n",
       "      <th>order_date</th>\n",
       "      <th>purchase_address</th>\n",
       "      <th>month</th>\n",
       "      <th>total_sales</th>\n",
       "      <th>city</th>\n",
       "      <th>hour</th>\n",
       "    </tr>\n",
       "  </thead>\n",
       "  <tbody>\n",
       "    <tr>\n",
       "      <th>0</th>\n",
       "      <td>176558</td>\n",
       "      <td>USB-C Charging Cable</td>\n",
       "      <td>2.0</td>\n",
       "      <td>11.95</td>\n",
       "      <td>2019-04-19 08:46:00</td>\n",
       "      <td>917 1st St, Dallas, TX 75001</td>\n",
       "      <td>April</td>\n",
       "      <td>23.90</td>\n",
       "      <td>Dallas, TX</td>\n",
       "      <td>8</td>\n",
       "    </tr>\n",
       "    <tr>\n",
       "      <th>1</th>\n",
       "      <td>176559</td>\n",
       "      <td>Bose SoundSport Headphones</td>\n",
       "      <td>1.0</td>\n",
       "      <td>99.99</td>\n",
       "      <td>2019-04-07 22:30:00</td>\n",
       "      <td>682 Chestnut St, Boston, MA 02215</td>\n",
       "      <td>April</td>\n",
       "      <td>99.99</td>\n",
       "      <td>Boston, MA</td>\n",
       "      <td>22</td>\n",
       "    </tr>\n",
       "    <tr>\n",
       "      <th>2</th>\n",
       "      <td>176560</td>\n",
       "      <td>Google Phone</td>\n",
       "      <td>1.0</td>\n",
       "      <td>600.00</td>\n",
       "      <td>2019-04-12 14:38:00</td>\n",
       "      <td>669 Spruce St, Los Angeles, CA 90001</td>\n",
       "      <td>April</td>\n",
       "      <td>600.00</td>\n",
       "      <td>Los Angeles, CA</td>\n",
       "      <td>14</td>\n",
       "    </tr>\n",
       "    <tr>\n",
       "      <th>3</th>\n",
       "      <td>176560</td>\n",
       "      <td>Wired Headphones</td>\n",
       "      <td>1.0</td>\n",
       "      <td>11.99</td>\n",
       "      <td>2019-04-12 14:38:00</td>\n",
       "      <td>669 Spruce St, Los Angeles, CA 90001</td>\n",
       "      <td>April</td>\n",
       "      <td>11.99</td>\n",
       "      <td>Los Angeles, CA</td>\n",
       "      <td>14</td>\n",
       "    </tr>\n",
       "    <tr>\n",
       "      <th>4</th>\n",
       "      <td>176561</td>\n",
       "      <td>Wired Headphones</td>\n",
       "      <td>1.0</td>\n",
       "      <td>11.99</td>\n",
       "      <td>2019-04-30 09:27:00</td>\n",
       "      <td>333 8th St, Los Angeles, CA 90001</td>\n",
       "      <td>April</td>\n",
       "      <td>11.99</td>\n",
       "      <td>Los Angeles, CA</td>\n",
       "      <td>9</td>\n",
       "    </tr>\n",
       "  </tbody>\n",
       "</table>\n",
       "</div>"
      ],
      "text/plain": [
       "   order_id                     product  quantity_ordered  price_each  \\\n",
       "0    176558        USB-C Charging Cable               2.0       11.95   \n",
       "1    176559  Bose SoundSport Headphones               1.0       99.99   \n",
       "2    176560                Google Phone               1.0      600.00   \n",
       "3    176560            Wired Headphones               1.0       11.99   \n",
       "4    176561            Wired Headphones               1.0       11.99   \n",
       "\n",
       "            order_date                      purchase_address  month  \\\n",
       "0  2019-04-19 08:46:00          917 1st St, Dallas, TX 75001  April   \n",
       "1  2019-04-07 22:30:00     682 Chestnut St, Boston, MA 02215  April   \n",
       "2  2019-04-12 14:38:00  669 Spruce St, Los Angeles, CA 90001  April   \n",
       "3  2019-04-12 14:38:00  669 Spruce St, Los Angeles, CA 90001  April   \n",
       "4  2019-04-30 09:27:00     333 8th St, Los Angeles, CA 90001  April   \n",
       "\n",
       "   total_sales             city  hour  \n",
       "0        23.90       Dallas, TX     8  \n",
       "1        99.99       Boston, MA    22  \n",
       "2       600.00  Los Angeles, CA    14  \n",
       "3        11.99  Los Angeles, CA    14  \n",
       "4        11.99  Los Angeles, CA     9  "
      ]
     },
     "execution_count": 35,
     "metadata": {},
     "output_type": "execute_result"
    }
   ],
   "source": [
    "# load cleaned csv file\n",
    "df = pd.read_csv('./output/all_data_master.csv')\n",
    "df.head()"
   ]
  },
  {
   "cell_type": "code",
   "execution_count": 36,
   "metadata": {},
   "outputs": [
    {
     "name": "stdout",
     "output_type": "stream",
     "text": [
      "<class 'pandas.core.frame.DataFrame'>\n",
      "RangeIndex: 182735 entries, 0 to 182734\n",
      "Data columns (total 10 columns):\n",
      " #   Column            Non-Null Count   Dtype         \n",
      "---  ------            --------------   -----         \n",
      " 0   order_id          182735 non-null  int64         \n",
      " 1   product           182735 non-null  object        \n",
      " 2   quantity_ordered  182735 non-null  float64       \n",
      " 3   price_each        182735 non-null  float64       \n",
      " 4   order_date        182735 non-null  datetime64[ns]\n",
      " 5   purchase_address  182735 non-null  object        \n",
      " 6   month             182735 non-null  object        \n",
      " 7   total_sales       182735 non-null  float64       \n",
      " 8   city              182735 non-null  object        \n",
      " 9   hour              182735 non-null  int64         \n",
      "dtypes: datetime64[ns](1), float64(3), int64(2), object(4)\n",
      "memory usage: 11.2+ MB\n"
     ]
    }
   ],
   "source": [
    "# fixing order_date type\n",
    "df.order_date = pd.to_datetime(df.order_date)\n",
    "df.info()"
   ]
  },
  {
   "cell_type": "markdown",
   "metadata": {},
   "source": [
    "---\n",
    "<a id='analyze-visaulize'></a>\n",
    "## 6. Analyze and Visualization"
   ]
  },
  {
   "cell_type": "markdown",
   "metadata": {},
   "source": [
    "**We are trying to answer these questions:**\n",
    "1. What was the best month for sales? How much was earned that month?\n",
    "2. What city sold the most product?\n",
    "3. What time should we display advertisemens to maximize the likelihood of customer’s buying product?\n",
    "4. What products are most often sold together?\n",
    "5. What product sold the most? Why do you think it sold the most?"
   ]
  },
  {
   "cell_type": "markdown",
   "metadata": {},
   "source": [
    "---\n",
    "### Q1: What was the best month for sales? How much was earned that month?"
   ]
  },
  {
   "cell_type": "markdown",
   "metadata": {},
   "source": [
    "**We can answer this question by plotting bar chart betweet months and total sales.**"
   ]
  },
  {
   "cell_type": "code",
   "execution_count": 37,
   "metadata": {},
   "outputs": [
    {
     "data": {
      "text/html": [
       "<div>\n",
       "<style scoped>\n",
       "    .dataframe tbody tr th:only-of-type {\n",
       "        vertical-align: middle;\n",
       "    }\n",
       "\n",
       "    .dataframe tbody tr th {\n",
       "        vertical-align: top;\n",
       "    }\n",
       "\n",
       "    .dataframe thead th {\n",
       "        text-align: right;\n",
       "    }\n",
       "</style>\n",
       "<table border=\"1\" class=\"dataframe\">\n",
       "  <thead>\n",
       "    <tr style=\"text-align: right;\">\n",
       "      <th></th>\n",
       "      <th>order_id</th>\n",
       "      <th>quantity_ordered</th>\n",
       "      <th>price_each</th>\n",
       "      <th>total_sales</th>\n",
       "      <th>hour</th>\n",
       "    </tr>\n",
       "    <tr>\n",
       "      <th>month</th>\n",
       "      <th></th>\n",
       "      <th></th>\n",
       "      <th></th>\n",
       "      <th></th>\n",
       "      <th></th>\n",
       "    </tr>\n",
       "  </thead>\n",
       "  <tbody>\n",
       "    <tr>\n",
       "      <th>December</th>\n",
       "      <td>7593831188</td>\n",
       "      <td>27764.0</td>\n",
       "      <td>4.533152e+06</td>\n",
       "      <td>4.557905e+06</td>\n",
       "      <td>355525</td>\n",
       "    </tr>\n",
       "    <tr>\n",
       "      <th>October</th>\n",
       "      <td>5374745444</td>\n",
       "      <td>22356.0</td>\n",
       "      <td>3.658885e+06</td>\n",
       "      <td>3.679254e+06</td>\n",
       "      <td>286163</td>\n",
       "    </tr>\n",
       "    <tr>\n",
       "      <th>April</th>\n",
       "      <td>3333217539</td>\n",
       "      <td>20226.0</td>\n",
       "      <td>3.313522e+06</td>\n",
       "      <td>3.336376e+06</td>\n",
       "      <td>258006</td>\n",
       "    </tr>\n",
       "    <tr>\n",
       "      <th>November</th>\n",
       "      <td>4964034464</td>\n",
       "      <td>19479.0</td>\n",
       "      <td>3.130969e+06</td>\n",
       "      <td>3.149785e+06</td>\n",
       "      <td>250705</td>\n",
       "    </tr>\n",
       "    <tr>\n",
       "      <th>May</th>\n",
       "      <td>3289290354</td>\n",
       "      <td>18344.0</td>\n",
       "      <td>3.084756e+06</td>\n",
       "      <td>3.101881e+06</td>\n",
       "      <td>234770</td>\n",
       "    </tr>\n",
       "    <tr>\n",
       "      <th>March</th>\n",
       "      <td>2520234917</td>\n",
       "      <td>16697.0</td>\n",
       "      <td>2.740393e+06</td>\n",
       "      <td>2.755969e+06</td>\n",
       "      <td>215186</td>\n",
       "    </tr>\n",
       "    <tr>\n",
       "      <th>July</th>\n",
       "      <td>3224356195</td>\n",
       "      <td>15781.0</td>\n",
       "      <td>2.572765e+06</td>\n",
       "      <td>2.587445e+06</td>\n",
       "      <td>202328</td>\n",
       "    </tr>\n",
       "    <tr>\n",
       "      <th>June</th>\n",
       "      <td>2876409942</td>\n",
       "      <td>14964.0</td>\n",
       "      <td>2.508863e+06</td>\n",
       "      <td>2.524465e+06</td>\n",
       "      <td>191720</td>\n",
       "    </tr>\n",
       "    <tr>\n",
       "      <th>August</th>\n",
       "      <td>2840777365</td>\n",
       "      <td>13185.0</td>\n",
       "      <td>2.178184e+06</td>\n",
       "      <td>2.191698e+06</td>\n",
       "      <td>168767</td>\n",
       "    </tr>\n",
       "    <tr>\n",
       "      <th>February</th>\n",
       "      <td>1832181724</td>\n",
       "      <td>13162.0</td>\n",
       "      <td>2.145209e+06</td>\n",
       "      <td>2.158127e+06</td>\n",
       "      <td>169098</td>\n",
       "    </tr>\n",
       "    <tr>\n",
       "      <th>September</th>\n",
       "      <td>2886380303</td>\n",
       "      <td>12827.0</td>\n",
       "      <td>2.038020e+06</td>\n",
       "      <td>2.050361e+06</td>\n",
       "      <td>164992</td>\n",
       "    </tr>\n",
       "    <tr>\n",
       "      <th>January</th>\n",
       "      <td>1391148846</td>\n",
       "      <td>10670.0</td>\n",
       "      <td>1.776156e+06</td>\n",
       "      <td>1.786511e+06</td>\n",
       "      <td>136503</td>\n",
       "    </tr>\n",
       "  </tbody>\n",
       "</table>\n",
       "</div>"
      ],
      "text/plain": [
       "             order_id  quantity_ordered    price_each   total_sales    hour\n",
       "month                                                                      \n",
       "December   7593831188           27764.0  4.533152e+06  4.557905e+06  355525\n",
       "October    5374745444           22356.0  3.658885e+06  3.679254e+06  286163\n",
       "April      3333217539           20226.0  3.313522e+06  3.336376e+06  258006\n",
       "November   4964034464           19479.0  3.130969e+06  3.149785e+06  250705\n",
       "May        3289290354           18344.0  3.084756e+06  3.101881e+06  234770\n",
       "March      2520234917           16697.0  2.740393e+06  2.755969e+06  215186\n",
       "July       3224356195           15781.0  2.572765e+06  2.587445e+06  202328\n",
       "June       2876409942           14964.0  2.508863e+06  2.524465e+06  191720\n",
       "August     2840777365           13185.0  2.178184e+06  2.191698e+06  168767\n",
       "February   1832181724           13162.0  2.145209e+06  2.158127e+06  169098\n",
       "September  2886380303           12827.0  2.038020e+06  2.050361e+06  164992\n",
       "January    1391148846           10670.0  1.776156e+06  1.786511e+06  136503"
      ]
     },
     "execution_count": 37,
     "metadata": {},
     "output_type": "execute_result"
    }
   ],
   "source": [
    "# using groupby\n",
    "df.groupby('month').sum().sort_values('total_sales', ascending=False)"
   ]
  },
  {
   "cell_type": "code",
   "execution_count": 38,
   "metadata": {},
   "outputs": [
    {
     "data": {
      "text/html": [
       "<div>\n",
       "<style scoped>\n",
       "    .dataframe tbody tr th:only-of-type {\n",
       "        vertical-align: middle;\n",
       "    }\n",
       "\n",
       "    .dataframe tbody tr th {\n",
       "        vertical-align: top;\n",
       "    }\n",
       "\n",
       "    .dataframe thead th {\n",
       "        text-align: right;\n",
       "    }\n",
       "</style>\n",
       "<table border=\"1\" class=\"dataframe\">\n",
       "  <thead>\n",
       "    <tr style=\"text-align: right;\">\n",
       "      <th></th>\n",
       "      <th>order_id</th>\n",
       "      <th>quantity_ordered</th>\n",
       "      <th>price_each</th>\n",
       "      <th>total_sales</th>\n",
       "      <th>hour</th>\n",
       "    </tr>\n",
       "    <tr>\n",
       "      <th>month</th>\n",
       "      <th></th>\n",
       "      <th></th>\n",
       "      <th></th>\n",
       "      <th></th>\n",
       "      <th></th>\n",
       "    </tr>\n",
       "  </thead>\n",
       "  <tbody>\n",
       "    <tr>\n",
       "      <th>January</th>\n",
       "      <td>1391148846</td>\n",
       "      <td>10670.0</td>\n",
       "      <td>1.776156e+06</td>\n",
       "      <td>1.786511e+06</td>\n",
       "      <td>136503</td>\n",
       "    </tr>\n",
       "    <tr>\n",
       "      <th>February</th>\n",
       "      <td>1832181724</td>\n",
       "      <td>13162.0</td>\n",
       "      <td>2.145209e+06</td>\n",
       "      <td>2.158127e+06</td>\n",
       "      <td>169098</td>\n",
       "    </tr>\n",
       "    <tr>\n",
       "      <th>March</th>\n",
       "      <td>2520234917</td>\n",
       "      <td>16697.0</td>\n",
       "      <td>2.740393e+06</td>\n",
       "      <td>2.755969e+06</td>\n",
       "      <td>215186</td>\n",
       "    </tr>\n",
       "    <tr>\n",
       "      <th>April</th>\n",
       "      <td>3333217539</td>\n",
       "      <td>20226.0</td>\n",
       "      <td>3.313522e+06</td>\n",
       "      <td>3.336376e+06</td>\n",
       "      <td>258006</td>\n",
       "    </tr>\n",
       "    <tr>\n",
       "      <th>May</th>\n",
       "      <td>3289290354</td>\n",
       "      <td>18344.0</td>\n",
       "      <td>3.084756e+06</td>\n",
       "      <td>3.101881e+06</td>\n",
       "      <td>234770</td>\n",
       "    </tr>\n",
       "    <tr>\n",
       "      <th>June</th>\n",
       "      <td>2876409942</td>\n",
       "      <td>14964.0</td>\n",
       "      <td>2.508863e+06</td>\n",
       "      <td>2.524465e+06</td>\n",
       "      <td>191720</td>\n",
       "    </tr>\n",
       "    <tr>\n",
       "      <th>July</th>\n",
       "      <td>3224356195</td>\n",
       "      <td>15781.0</td>\n",
       "      <td>2.572765e+06</td>\n",
       "      <td>2.587445e+06</td>\n",
       "      <td>202328</td>\n",
       "    </tr>\n",
       "    <tr>\n",
       "      <th>August</th>\n",
       "      <td>2840777365</td>\n",
       "      <td>13185.0</td>\n",
       "      <td>2.178184e+06</td>\n",
       "      <td>2.191698e+06</td>\n",
       "      <td>168767</td>\n",
       "    </tr>\n",
       "    <tr>\n",
       "      <th>September</th>\n",
       "      <td>2886380303</td>\n",
       "      <td>12827.0</td>\n",
       "      <td>2.038020e+06</td>\n",
       "      <td>2.050361e+06</td>\n",
       "      <td>164992</td>\n",
       "    </tr>\n",
       "    <tr>\n",
       "      <th>October</th>\n",
       "      <td>5374745444</td>\n",
       "      <td>22356.0</td>\n",
       "      <td>3.658885e+06</td>\n",
       "      <td>3.679254e+06</td>\n",
       "      <td>286163</td>\n",
       "    </tr>\n",
       "    <tr>\n",
       "      <th>November</th>\n",
       "      <td>4964034464</td>\n",
       "      <td>19479.0</td>\n",
       "      <td>3.130969e+06</td>\n",
       "      <td>3.149785e+06</td>\n",
       "      <td>250705</td>\n",
       "    </tr>\n",
       "    <tr>\n",
       "      <th>December</th>\n",
       "      <td>7593831188</td>\n",
       "      <td>27764.0</td>\n",
       "      <td>4.533152e+06</td>\n",
       "      <td>4.557905e+06</td>\n",
       "      <td>355525</td>\n",
       "    </tr>\n",
       "  </tbody>\n",
       "</table>\n",
       "</div>"
      ],
      "text/plain": [
       "             order_id  quantity_ordered    price_each   total_sales    hour\n",
       "month                                                                      \n",
       "January    1391148846           10670.0  1.776156e+06  1.786511e+06  136503\n",
       "February   1832181724           13162.0  2.145209e+06  2.158127e+06  169098\n",
       "March      2520234917           16697.0  2.740393e+06  2.755969e+06  215186\n",
       "April      3333217539           20226.0  3.313522e+06  3.336376e+06  258006\n",
       "May        3289290354           18344.0  3.084756e+06  3.101881e+06  234770\n",
       "June       2876409942           14964.0  2.508863e+06  2.524465e+06  191720\n",
       "July       3224356195           15781.0  2.572765e+06  2.587445e+06  202328\n",
       "August     2840777365           13185.0  2.178184e+06  2.191698e+06  168767\n",
       "September  2886380303           12827.0  2.038020e+06  2.050361e+06  164992\n",
       "October    5374745444           22356.0  3.658885e+06  3.679254e+06  286163\n",
       "November   4964034464           19479.0  3.130969e+06  3.149785e+06  250705\n",
       "December   7593831188           27764.0  4.533152e+06  4.557905e+06  355525"
      ]
     },
     "execution_count": 38,
     "metadata": {},
     "output_type": "execute_result"
    }
   ],
   "source": [
    "# Reordering months\n",
    "months_sales = df.groupby('month').sum().sort_values('total_sales', ascending=False)\n",
    "months = ['January', 'February', 'March', 'April', 'May', 'June', 'July', 'August', 'September', 'October', 'November', 'December']\n",
    "\n",
    "months_sales.index = pd.CategoricalIndex(months_sales.index, categories=months, ordered=True)\n",
    "months_sales = months_sales.sort_index()\n",
    "\n",
    "months_sales"
   ]
  },
  {
   "cell_type": "markdown",
   "metadata": {},
   "source": [
    "[*Resource: Pandas series sort by month index*](https://stackoverflow.com/questions/40816144/pandas-series-sort-by-month-index) "
   ]
  },
  {
   "cell_type": "code",
   "execution_count": 39,
   "metadata": {},
   "outputs": [
    {
     "data": {
      "image/png": "[encoded data removed]",
      "text/plain": [
       "<Figure size 1000x600 with 1 Axes>"
      ]
     },
     "metadata": {},
     "output_type": "display_data"
    }
   ],
   "source": [
    "# using plot\n",
    "plt.style.use('default')\n",
    "plt.figure(figsize=(10, 6))\n",
    "\n",
    "plt.bar(months, months_sales.total_sales, width=.5, color='g')\n",
    "\n",
    "plt.xticks(months, rotation='vertical')\n",
    "plt.xlabel(\"Months\", color='darkblue', size=10)\n",
    "plt.ylabel(\"Sales ($)\", color='darkblue', size=10)\n",
    "plt.title(\"Months' Sales in USD\", color='darkred', size=12)\n",
    "\n",
    "plt.savefig(\"./img/01_months_sales\", bbox_inches='tight', dpi=300)\n",
    "plt.show()"
   ]
  },
  {
   "cell_type": "code",
   "execution_count": 40,
   "metadata": {},
   "outputs": [
    {
     "data": {
      "image/png": "[encoded data removed]",
      "text/plain": [
       "<Figure size 1000x600 with 1 Axes>"
      ]
     },
     "metadata": {},
     "output_type": "display_data"
    }
   ],
   "source": [
    "# Pie chart\n",
    "plt.figure(figsize=(10, 6))\n",
    "plt.style.use('ggplot')\n",
    "\n",
    "explode = (0.01, 0.01, 0.01, 0.01, 0.01, 0.01, 0.01, 0.01, 0.01, 0.01, 0.01, 0.01)\n",
    "\n",
    "\n",
    "plt.pie(months_sales.total_sales, labels=months, explode=explode, autopct='%1.2f%%', startangle=90, pctdistance=0.83)\n",
    "plt.axis('equal')\n",
    "\n",
    "plt.title(\"Months' Sales Share\", color='darkred', size=15, y=-.2)\n",
    "\n",
    "\n",
    "#draw circle\n",
    "centre_circle = plt.Circle((0,0),.7,fc='white')\n",
    "fig = plt.gcf()\n",
    "fig.gca().add_artist(centre_circle)\n",
    "\n",
    "plt.savefig(\"./img/01_months_sales_share\", bbox_inches='tight', dpi=300)\n",
    "plt.show()"
   ]
  },
  {
   "cell_type": "markdown",
   "metadata": {},
   "source": [
    "**December was the best month for sales with 4.557905e+06 USD**"
   ]
  },
  {
   "cell_type": "markdown",
   "metadata": {},
   "source": [
    "---\n",
    "### Q2: What city sold the most product?"
   ]
  },
  {
   "cell_type": "markdown",
   "metadata": {},
   "source": [
    "**We can answer this question by plotting bar chart betweet cities and total sales.**"
   ]
  },
  {
   "cell_type": "code",
   "execution_count": 41,
   "metadata": {},
   "outputs": [
    {
     "data": {
      "text/html": [
       "<div>\n",
       "<style scoped>\n",
       "    .dataframe tbody tr th:only-of-type {\n",
       "        vertical-align: middle;\n",
       "    }\n",
       "\n",
       "    .dataframe tbody tr th {\n",
       "        vertical-align: top;\n",
       "    }\n",
       "\n",
       "    .dataframe thead th {\n",
       "        text-align: right;\n",
       "    }\n",
       "</style>\n",
       "<table border=\"1\" class=\"dataframe\">\n",
       "  <thead>\n",
       "    <tr style=\"text-align: right;\">\n",
       "      <th></th>\n",
       "      <th>order_id</th>\n",
       "      <th>quantity_ordered</th>\n",
       "      <th>price_each</th>\n",
       "      <th>total_sales</th>\n",
       "      <th>hour</th>\n",
       "    </tr>\n",
       "    <tr>\n",
       "      <th>city</th>\n",
       "      <th></th>\n",
       "      <th></th>\n",
       "      <th></th>\n",
       "      <th></th>\n",
       "      <th></th>\n",
       "    </tr>\n",
       "  </thead>\n",
       "  <tbody>\n",
       "    <tr>\n",
       "      <th>San Francisco, CA</th>\n",
       "      <td>10127798551</td>\n",
       "      <td>49363.0</td>\n",
       "      <td>8.074046e+06</td>\n",
       "      <td>8.124121e+06</td>\n",
       "      <td>631900</td>\n",
       "    </tr>\n",
       "    <tr>\n",
       "      <th>Los Angeles, CA</th>\n",
       "      <td>6698824762</td>\n",
       "      <td>32722.0</td>\n",
       "      <td>5.323916e+06</td>\n",
       "      <td>5.354040e+06</td>\n",
       "      <td>420439</td>\n",
       "    </tr>\n",
       "    <tr>\n",
       "      <th>New York City, NY</th>\n",
       "      <td>5643048641</td>\n",
       "      <td>27470.0</td>\n",
       "      <td>4.553287e+06</td>\n",
       "      <td>4.581659e+06</td>\n",
       "      <td>351569</td>\n",
       "    </tr>\n",
       "    <tr>\n",
       "      <th>Boston, MA</th>\n",
       "      <td>4517043947</td>\n",
       "      <td>22123.0</td>\n",
       "      <td>3.580075e+06</td>\n",
       "      <td>3.604081e+06</td>\n",
       "      <td>282781</td>\n",
       "    </tr>\n",
       "    <tr>\n",
       "      <th>Atlanta, GA</th>\n",
       "      <td>3366679952</td>\n",
       "      <td>16304.0</td>\n",
       "      <td>2.726247e+06</td>\n",
       "      <td>2.741642e+06</td>\n",
       "      <td>210462</td>\n",
       "    </tr>\n",
       "    <tr>\n",
       "      <th>Dallas, TX</th>\n",
       "      <td>3360280471</td>\n",
       "      <td>16453.0</td>\n",
       "      <td>2.702619e+06</td>\n",
       "      <td>2.717794e+06</td>\n",
       "      <td>210879</td>\n",
       "    </tr>\n",
       "    <tr>\n",
       "      <th>Seattle, WA</th>\n",
       "      <td>3350585611</td>\n",
       "      <td>16281.0</td>\n",
       "      <td>2.678871e+06</td>\n",
       "      <td>2.693049e+06</td>\n",
       "      <td>209705</td>\n",
       "    </tr>\n",
       "    <tr>\n",
       "      <th>Portland, OR</th>\n",
       "      <td>2269245678</td>\n",
       "      <td>11110.0</td>\n",
       "      <td>1.822878e+06</td>\n",
       "      <td>1.832539e+06</td>\n",
       "      <td>142134</td>\n",
       "    </tr>\n",
       "    <tr>\n",
       "      <th>Austin, TX</th>\n",
       "      <td>2238557673</td>\n",
       "      <td>10933.0</td>\n",
       "      <td>1.777232e+06</td>\n",
       "      <td>1.786746e+06</td>\n",
       "      <td>139294</td>\n",
       "    </tr>\n",
       "    <tr>\n",
       "      <th>Portland, ME</th>\n",
       "      <td>554542995</td>\n",
       "      <td>2696.0</td>\n",
       "      <td>4.417017e+05</td>\n",
       "      <td>4.441105e+05</td>\n",
       "      <td>34600</td>\n",
       "    </tr>\n",
       "  </tbody>\n",
       "</table>\n",
       "</div>"
      ],
      "text/plain": [
       "                      order_id  quantity_ordered    price_each   total_sales  \\\n",
       "city                                                                           \n",
       "San Francisco, CA  10127798551           49363.0  8.074046e+06  8.124121e+06   \n",
       "Los Angeles, CA     6698824762           32722.0  5.323916e+06  5.354040e+06   \n",
       "New York City, NY   5643048641           27470.0  4.553287e+06  4.581659e+06   \n",
       "Boston, MA          4517043947           22123.0  3.580075e+06  3.604081e+06   \n",
       "Atlanta, GA         3366679952           16304.0  2.726247e+06  2.741642e+06   \n",
       "Dallas, TX          3360280471           16453.0  2.702619e+06  2.717794e+06   \n",
       "Seattle, WA         3350585611           16281.0  2.678871e+06  2.693049e+06   \n",
       "Portland, OR        2269245678           11110.0  1.822878e+06  1.832539e+06   \n",
       "Austin, TX          2238557673           10933.0  1.777232e+06  1.786746e+06   \n",
       "Portland, ME         554542995            2696.0  4.417017e+05  4.441105e+05   \n",
       "\n",
       "                     hour  \n",
       "city                       \n",
       "San Francisco, CA  631900  \n",
       "Los Angeles, CA    420439  \n",
       "New York City, NY  351569  \n",
       "Boston, MA         282781  \n",
       "Atlanta, GA        210462  \n",
       "Dallas, TX         210879  \n",
       "Seattle, WA        209705  \n",
       "Portland, OR       142134  \n",
       "Austin, TX         139294  \n",
       "Portland, ME        34600  "
      ]
     },
     "execution_count": 41,
     "metadata": {},
     "output_type": "execute_result"
    }
   ],
   "source": [
    "df.groupby('city').sum().sort_values('total_sales', ascending=False)"
   ]
  },
  {
   "cell_type": "code",
   "execution_count": 42,
   "metadata": {
    "scrolled": false
   },
   "outputs": [
    {
     "data": {
      "image/png": "[encoded data removed]",
      "text/plain": [
       "<Figure size 1000x600 with 1 Axes>"
      ]
     },
     "metadata": {},
     "output_type": "display_data"
    }
   ],
   "source": [
    "# using plot\n",
    "city_sales = df.groupby('city').sum()\n",
    "cities = [city for city, df in df.groupby('city')]\n",
    "\n",
    "plt.figure(figsize=(10, 6))\n",
    "plt.style.use('default')\n",
    "\n",
    "\n",
    "plt.bar(cities, city_sales.total_sales, width=0.5)\n",
    "\n",
    "plt.xticks(cities, rotation='vertical', size=8)\n",
    "plt.xlabel(\"Cities\", color='darkblue', size=10)\n",
    "plt.ylabel(\"Sales ($)\", color='darkblue', size=10)\n",
    "plt.title(\"Cities Sales in USD\", color='darkred', size=12)\n",
    "\n",
    "plt.savefig(\"./img/02_city_sales\", bbox_inches='tight', dpi=300)\n",
    "plt.show()"
   ]
  },
  {
   "cell_type": "code",
   "execution_count": 43,
   "metadata": {
    "scrolled": false
   },
   "outputs": [
    {
     "data": {
      "image/png": "[encoded data removed]",
      "text/plain": [
       "<Figure size 1000x600 with 1 Axes>"
      ]
     },
     "metadata": {},
     "output_type": "display_data"
    }
   ],
   "source": [
    "# Pie chart\n",
    "plt.figure(figsize=(10, 6))\n",
    "plt.style.use('ggplot')\n",
    "\n",
    "explode = (0, 0, 0, 0, 0, 0, 0, 0, 0.05, 0)\n",
    "plt.pie(city_sales.total_sales, labels=cities, explode=explode, autopct='%1.1f%%', startangle=90)\n",
    "plt.axis('equal')\n",
    "\n",
    "plt.title(\"Cities Sales share\", color='darkred', size=12, y=-.1)\n",
    "\n",
    "plt.savefig(\"./img/02_city_sales_share\", bbox_inches='tight', dpi=300)\n",
    "plt.show()"
   ]
  },
  {
   "cell_type": "markdown",
   "metadata": {},
   "source": [
    "**San Francisco was the highest city in sales with 8.124121e+06 USD**"
   ]
  },
  {
   "cell_type": "markdown",
   "metadata": {},
   "source": [
    "---\n",
    "### Q3: What time should we display advertisemens to maximize the likelihood of customer’s buying product?"
   ]
  },
  {
   "cell_type": "markdown",
   "metadata": {},
   "source": [
    "**We can answer this question by plotting line chart betweet day's hours and total sales.**"
   ]
  },
  {
   "cell_type": "code",
   "execution_count": 44,
   "metadata": {},
   "outputs": [
    {
     "data": {
      "text/html": [
       "<div>\n",
       "<style scoped>\n",
       "    .dataframe tbody tr th:only-of-type {\n",
       "        vertical-align: middle;\n",
       "    }\n",
       "\n",
       "    .dataframe tbody tr th {\n",
       "        vertical-align: top;\n",
       "    }\n",
       "\n",
       "    .dataframe thead th {\n",
       "        text-align: right;\n",
       "    }\n",
       "</style>\n",
       "<table border=\"1\" class=\"dataframe\">\n",
       "  <thead>\n",
       "    <tr style=\"text-align: right;\">\n",
       "      <th></th>\n",
       "      <th>order_id</th>\n",
       "      <th>quantity_ordered</th>\n",
       "      <th>price_each</th>\n",
       "      <th>total_sales</th>\n",
       "    </tr>\n",
       "    <tr>\n",
       "      <th>hour</th>\n",
       "      <th></th>\n",
       "      <th></th>\n",
       "      <th></th>\n",
       "      <th></th>\n",
       "    </tr>\n",
       "  </thead>\n",
       "  <tbody>\n",
       "    <tr>\n",
       "      <th>19</th>\n",
       "      <td>2928761805</td>\n",
       "      <td>14228.0</td>\n",
       "      <td>2356053.97</td>\n",
       "      <td>2370005.59</td>\n",
       "    </tr>\n",
       "    <tr>\n",
       "      <th>12</th>\n",
       "      <td>2854625819</td>\n",
       "      <td>13946.0</td>\n",
       "      <td>2252856.08</td>\n",
       "      <td>2269676.91</td>\n",
       "    </tr>\n",
       "    <tr>\n",
       "      <th>11</th>\n",
       "      <td>2813452868</td>\n",
       "      <td>13763.0</td>\n",
       "      <td>2255710.53</td>\n",
       "      <td>2267169.73</td>\n",
       "    </tr>\n",
       "    <tr>\n",
       "      <th>20</th>\n",
       "      <td>2775306777</td>\n",
       "      <td>13565.0</td>\n",
       "      <td>2230045.17</td>\n",
       "      <td>2242856.37</td>\n",
       "    </tr>\n",
       "    <tr>\n",
       "      <th>18</th>\n",
       "      <td>2780186964</td>\n",
       "      <td>13576.0</td>\n",
       "      <td>2164692.79</td>\n",
       "      <td>2176209.65</td>\n",
       "    </tr>\n",
       "    <tr>\n",
       "      <th>13</th>\n",
       "      <td>2748580718</td>\n",
       "      <td>13437.0</td>\n",
       "      <td>2102892.80</td>\n",
       "      <td>2118394.83</td>\n",
       "    </tr>\n",
       "    <tr>\n",
       "      <th>17</th>\n",
       "      <td>2473930476</td>\n",
       "      <td>12016.0</td>\n",
       "      <td>2073586.46</td>\n",
       "      <td>2086082.23</td>\n",
       "    </tr>\n",
       "    <tr>\n",
       "      <th>14</th>\n",
       "      <td>2495371130</td>\n",
       "      <td>12163.0</td>\n",
       "      <td>2033782.14</td>\n",
       "      <td>2045085.42</td>\n",
       "    </tr>\n",
       "    <tr>\n",
       "      <th>21</th>\n",
       "      <td>2475049188</td>\n",
       "      <td>12030.0</td>\n",
       "      <td>2002164.54</td>\n",
       "      <td>2013288.02</td>\n",
       "    </tr>\n",
       "    <tr>\n",
       "      <th>10</th>\n",
       "      <td>2466916687</td>\n",
       "      <td>12058.0</td>\n",
       "      <td>1896115.54</td>\n",
       "      <td>1907179.29</td>\n",
       "    </tr>\n",
       "    <tr>\n",
       "      <th>15</th>\n",
       "      <td>2304099947</td>\n",
       "      <td>11175.0</td>\n",
       "      <td>1889896.11</td>\n",
       "      <td>1900151.56</td>\n",
       "    </tr>\n",
       "    <tr>\n",
       "      <th>16</th>\n",
       "      <td>2340402151</td>\n",
       "      <td>11420.0</td>\n",
       "      <td>1852664.16</td>\n",
       "      <td>1864530.92</td>\n",
       "    </tr>\n",
       "    <tr>\n",
       "      <th>9</th>\n",
       "      <td>1967437689</td>\n",
       "      <td>9628.0</td>\n",
       "      <td>1602115.93</td>\n",
       "      <td>1612498.90</td>\n",
       "    </tr>\n",
       "    <tr>\n",
       "      <th>22</th>\n",
       "      <td>1995219362</td>\n",
       "      <td>9715.0</td>\n",
       "      <td>1570465.70</td>\n",
       "      <td>1578173.21</td>\n",
       "    </tr>\n",
       "    <tr>\n",
       "      <th>8</th>\n",
       "      <td>1418526035</td>\n",
       "      <td>6917.0</td>\n",
       "      <td>1175057.60</td>\n",
       "      <td>1181363.76</td>\n",
       "    </tr>\n",
       "    <tr>\n",
       "      <th>23</th>\n",
       "      <td>1424084403</td>\n",
       "      <td>6955.0</td>\n",
       "      <td>1155185.62</td>\n",
       "      <td>1161803.96</td>\n",
       "    </tr>\n",
       "    <tr>\n",
       "      <th>7</th>\n",
       "      <td>917068874</td>\n",
       "      <td>4483.0</td>\n",
       "      <td>730350.33</td>\n",
       "      <td>734595.75</td>\n",
       "    </tr>\n",
       "    <tr>\n",
       "      <th>0</th>\n",
       "      <td>886041145</td>\n",
       "      <td>4355.0</td>\n",
       "      <td>694313.78</td>\n",
       "      <td>698694.76</td>\n",
       "    </tr>\n",
       "    <tr>\n",
       "      <th>1</th>\n",
       "      <td>534912819</td>\n",
       "      <td>2579.0</td>\n",
       "      <td>445316.87</td>\n",
       "      <td>447663.86</td>\n",
       "    </tr>\n",
       "    <tr>\n",
       "      <th>6</th>\n",
       "      <td>563896980</td>\n",
       "      <td>2767.0</td>\n",
       "      <td>438446.96</td>\n",
       "      <td>441523.14</td>\n",
       "    </tr>\n",
       "    <tr>\n",
       "      <th>2</th>\n",
       "      <td>278467863</td>\n",
       "      <td>1379.0</td>\n",
       "      <td>233191.25</td>\n",
       "      <td>234191.08</td>\n",
       "    </tr>\n",
       "    <tr>\n",
       "      <th>5</th>\n",
       "      <td>298366603</td>\n",
       "      <td>1463.0</td>\n",
       "      <td>223261.09</td>\n",
       "      <td>224313.72</td>\n",
       "    </tr>\n",
       "    <tr>\n",
       "      <th>4</th>\n",
       "      <td>196834171</td>\n",
       "      <td>925.0</td>\n",
       "      <td>160759.69</td>\n",
       "      <td>161350.57</td>\n",
       "    </tr>\n",
       "    <tr>\n",
       "      <th>3</th>\n",
       "      <td>189067807</td>\n",
       "      <td>912.0</td>\n",
       "      <td>141948.06</td>\n",
       "      <td>142976.54</td>\n",
       "    </tr>\n",
       "  </tbody>\n",
       "</table>\n",
       "</div>"
      ],
      "text/plain": [
       "        order_id  quantity_ordered  price_each  total_sales\n",
       "hour                                                       \n",
       "19    2928761805           14228.0  2356053.97   2370005.59\n",
       "12    2854625819           13946.0  2252856.08   2269676.91\n",
       "11    2813452868           13763.0  2255710.53   2267169.73\n",
       "20    2775306777           13565.0  2230045.17   2242856.37\n",
       "18    2780186964           13576.0  2164692.79   2176209.65\n",
       "13    2748580718           13437.0  2102892.80   2118394.83\n",
       "17    2473930476           12016.0  2073586.46   2086082.23\n",
       "14    2495371130           12163.0  2033782.14   2045085.42\n",
       "21    2475049188           12030.0  2002164.54   2013288.02\n",
       "10    2466916687           12058.0  1896115.54   1907179.29\n",
       "15    2304099947           11175.0  1889896.11   1900151.56\n",
       "16    2340402151           11420.0  1852664.16   1864530.92\n",
       "9     1967437689            9628.0  1602115.93   1612498.90\n",
       "22    1995219362            9715.0  1570465.70   1578173.21\n",
       "8     1418526035            6917.0  1175057.60   1181363.76\n",
       "23    1424084403            6955.0  1155185.62   1161803.96\n",
       "7      917068874            4483.0   730350.33    734595.75\n",
       "0      886041145            4355.0   694313.78    698694.76\n",
       "1      534912819            2579.0   445316.87    447663.86\n",
       "6      563896980            2767.0   438446.96    441523.14\n",
       "2      278467863            1379.0   233191.25    234191.08\n",
       "5      298366603            1463.0   223261.09    224313.72\n",
       "4      196834171             925.0   160759.69    161350.57\n",
       "3      189067807             912.0   141948.06    142976.54"
      ]
     },
     "execution_count": 44,
     "metadata": {},
     "output_type": "execute_result"
    }
   ],
   "source": [
    "df.groupby('hour').sum().sort_values('total_sales', ascending=False)"
   ]
  },
  {
   "cell_type": "code",
   "execution_count": 45,
   "metadata": {
    "scrolled": false
   },
   "outputs": [
    {
     "data": {
      "image/png": "[encoded data removed]",
      "text/plain": [
       "<Figure size 1000x600 with 1 Axes>"
      ]
     },
     "metadata": {},
     "output_type": "display_data"
    }
   ],
   "source": [
    "# using plot\n",
    "hour_sales = df.groupby('hour').count()\n",
    "hours = [hour for hour, df in df.groupby('hour')]\n",
    "\n",
    "plt.figure(figsize=(10, 6))\n",
    "plt.style.use('seaborn-whitegrid')\n",
    "\n",
    "plt.plot(hours, hour_sales.total_sales, 'g.-')\n",
    "\n",
    "plt.xticks(hours, size=8)\n",
    "plt.xlabel(\"Hours of day\", color='darkblue', size=10)\n",
    "plt.ylabel(\"Sales ($)\", color='darkblue', size=10)\n",
    "plt.title(\"Sales over day's hours\", color='darkred', size=12)\n",
    "\n",
    "plt.savefig(\"./img/03_hour_sales\", bbox_inches='tight', dpi=300)\n",
    "plt.show()"
   ]
  },
  {
   "cell_type": "markdown",
   "metadata": {},
   "source": [
    "**Looks like we have two peaks, at 12:00 PM amd 7:00 PM, We should display more advertisement before these times.**"
   ]
  },
  {
   "cell_type": "markdown",
   "metadata": {},
   "source": [
    "---\n",
    "### Q4: What products are most often sold together?"
   ]
  },
  {
   "cell_type": "markdown",
   "metadata": {},
   "source": [
    "**We can check `order_id`. If there are matched, that means they are the same order.**"
   ]
  },
  {
   "cell_type": "code",
   "execution_count": 46,
   "metadata": {},
   "outputs": [
    {
     "data": {
      "text/html": [
       "<div>\n",
       "<style scoped>\n",
       "    .dataframe tbody tr th:only-of-type {\n",
       "        vertical-align: middle;\n",
       "    }\n",
       "\n",
       "    .dataframe tbody tr th {\n",
       "        vertical-align: top;\n",
       "    }\n",
       "\n",
       "    .dataframe thead th {\n",
       "        text-align: right;\n",
       "    }\n",
       "</style>\n",
       "<table border=\"1\" class=\"dataframe\">\n",
       "  <thead>\n",
       "    <tr style=\"text-align: right;\">\n",
       "      <th></th>\n",
       "      <th>order_id</th>\n",
       "      <th>product</th>\n",
       "      <th>quantity_ordered</th>\n",
       "      <th>price_each</th>\n",
       "      <th>order_date</th>\n",
       "      <th>purchase_address</th>\n",
       "      <th>month</th>\n",
       "      <th>total_sales</th>\n",
       "      <th>city</th>\n",
       "      <th>hour</th>\n",
       "    </tr>\n",
       "  </thead>\n",
       "  <tbody>\n",
       "    <tr>\n",
       "      <th>2</th>\n",
       "      <td>176560</td>\n",
       "      <td>Google Phone</td>\n",
       "      <td>1.0</td>\n",
       "      <td>600.00</td>\n",
       "      <td>2019-04-12 14:38:00</td>\n",
       "      <td>669 Spruce St, Los Angeles, CA 90001</td>\n",
       "      <td>April</td>\n",
       "      <td>600.00</td>\n",
       "      <td>Los Angeles, CA</td>\n",
       "      <td>14</td>\n",
       "    </tr>\n",
       "    <tr>\n",
       "      <th>3</th>\n",
       "      <td>176560</td>\n",
       "      <td>Wired Headphones</td>\n",
       "      <td>1.0</td>\n",
       "      <td>11.99</td>\n",
       "      <td>2019-04-12 14:38:00</td>\n",
       "      <td>669 Spruce St, Los Angeles, CA 90001</td>\n",
       "      <td>April</td>\n",
       "      <td>11.99</td>\n",
       "      <td>Los Angeles, CA</td>\n",
       "      <td>14</td>\n",
       "    </tr>\n",
       "    <tr>\n",
       "      <th>17</th>\n",
       "      <td>176574</td>\n",
       "      <td>Google Phone</td>\n",
       "      <td>1.0</td>\n",
       "      <td>600.00</td>\n",
       "      <td>2019-04-03 19:42:00</td>\n",
       "      <td>20 Hill St, Los Angeles, CA 90001</td>\n",
       "      <td>April</td>\n",
       "      <td>600.00</td>\n",
       "      <td>Los Angeles, CA</td>\n",
       "      <td>19</td>\n",
       "    </tr>\n",
       "    <tr>\n",
       "      <th>18</th>\n",
       "      <td>176574</td>\n",
       "      <td>USB-C Charging Cable</td>\n",
       "      <td>1.0</td>\n",
       "      <td>11.95</td>\n",
       "      <td>2019-04-03 19:42:00</td>\n",
       "      <td>20 Hill St, Los Angeles, CA 90001</td>\n",
       "      <td>April</td>\n",
       "      <td>11.95</td>\n",
       "      <td>Los Angeles, CA</td>\n",
       "      <td>19</td>\n",
       "    </tr>\n",
       "    <tr>\n",
       "      <th>29</th>\n",
       "      <td>176585</td>\n",
       "      <td>Bose SoundSport Headphones</td>\n",
       "      <td>1.0</td>\n",
       "      <td>99.99</td>\n",
       "      <td>2019-04-07 11:31:00</td>\n",
       "      <td>823 Highland St, Boston, MA 02215</td>\n",
       "      <td>April</td>\n",
       "      <td>99.99</td>\n",
       "      <td>Boston, MA</td>\n",
       "      <td>11</td>\n",
       "    </tr>\n",
       "    <tr>\n",
       "      <th>30</th>\n",
       "      <td>176585</td>\n",
       "      <td>Bose SoundSport Headphones</td>\n",
       "      <td>1.0</td>\n",
       "      <td>99.99</td>\n",
       "      <td>2019-04-07 11:31:00</td>\n",
       "      <td>823 Highland St, Boston, MA 02215</td>\n",
       "      <td>April</td>\n",
       "      <td>99.99</td>\n",
       "      <td>Boston, MA</td>\n",
       "      <td>11</td>\n",
       "    </tr>\n",
       "    <tr>\n",
       "      <th>31</th>\n",
       "      <td>176586</td>\n",
       "      <td>AAA Batteries (4-pack)</td>\n",
       "      <td>2.0</td>\n",
       "      <td>2.99</td>\n",
       "      <td>2019-04-10 17:00:00</td>\n",
       "      <td>365 Center St, San Francisco, CA 94016</td>\n",
       "      <td>April</td>\n",
       "      <td>5.98</td>\n",
       "      <td>San Francisco, CA</td>\n",
       "      <td>17</td>\n",
       "    </tr>\n",
       "    <tr>\n",
       "      <th>32</th>\n",
       "      <td>176586</td>\n",
       "      <td>Google Phone</td>\n",
       "      <td>1.0</td>\n",
       "      <td>600.00</td>\n",
       "      <td>2019-04-10 17:00:00</td>\n",
       "      <td>365 Center St, San Francisco, CA 94016</td>\n",
       "      <td>April</td>\n",
       "      <td>600.00</td>\n",
       "      <td>San Francisco, CA</td>\n",
       "      <td>17</td>\n",
       "    </tr>\n",
       "    <tr>\n",
       "      <th>118</th>\n",
       "      <td>176672</td>\n",
       "      <td>Lightning Charging Cable</td>\n",
       "      <td>1.0</td>\n",
       "      <td>14.95</td>\n",
       "      <td>2019-04-12 11:07:00</td>\n",
       "      <td>778 Maple St, New York City, NY 10001</td>\n",
       "      <td>April</td>\n",
       "      <td>14.95</td>\n",
       "      <td>New York City, NY</td>\n",
       "      <td>11</td>\n",
       "    </tr>\n",
       "    <tr>\n",
       "      <th>119</th>\n",
       "      <td>176672</td>\n",
       "      <td>USB-C Charging Cable</td>\n",
       "      <td>1.0</td>\n",
       "      <td>11.95</td>\n",
       "      <td>2019-04-12 11:07:00</td>\n",
       "      <td>778 Maple St, New York City, NY 10001</td>\n",
       "      <td>April</td>\n",
       "      <td>11.95</td>\n",
       "      <td>New York City, NY</td>\n",
       "      <td>11</td>\n",
       "    </tr>\n",
       "  </tbody>\n",
       "</table>\n",
       "</div>"
      ],
      "text/plain": [
       "     order_id                     product  quantity_ordered  price_each  \\\n",
       "2      176560                Google Phone               1.0      600.00   \n",
       "3      176560            Wired Headphones               1.0       11.99   \n",
       "17     176574                Google Phone               1.0      600.00   \n",
       "18     176574        USB-C Charging Cable               1.0       11.95   \n",
       "29     176585  Bose SoundSport Headphones               1.0       99.99   \n",
       "30     176585  Bose SoundSport Headphones               1.0       99.99   \n",
       "31     176586      AAA Batteries (4-pack)               2.0        2.99   \n",
       "32     176586                Google Phone               1.0      600.00   \n",
       "118    176672    Lightning Charging Cable               1.0       14.95   \n",
       "119    176672        USB-C Charging Cable               1.0       11.95   \n",
       "\n",
       "             order_date                        purchase_address  month  \\\n",
       "2   2019-04-12 14:38:00    669 Spruce St, Los Angeles, CA 90001  April   \n",
       "3   2019-04-12 14:38:00    669 Spruce St, Los Angeles, CA 90001  April   \n",
       "17  2019-04-03 19:42:00       20 Hill St, Los Angeles, CA 90001  April   \n",
       "18  2019-04-03 19:42:00       20 Hill St, Los Angeles, CA 90001  April   \n",
       "29  2019-04-07 11:31:00       823 Highland St, Boston, MA 02215  April   \n",
       "30  2019-04-07 11:31:00       823 Highland St, Boston, MA 02215  April   \n",
       "31  2019-04-10 17:00:00  365 Center St, San Francisco, CA 94016  April   \n",
       "32  2019-04-10 17:00:00  365 Center St, San Francisco, CA 94016  April   \n",
       "118 2019-04-12 11:07:00   778 Maple St, New York City, NY 10001  April   \n",
       "119 2019-04-12 11:07:00   778 Maple St, New York City, NY 10001  April   \n",
       "\n",
       "     total_sales               city  hour  \n",
       "2         600.00    Los Angeles, CA    14  \n",
       "3          11.99    Los Angeles, CA    14  \n",
       "17        600.00    Los Angeles, CA    19  \n",
       "18         11.95    Los Angeles, CA    19  \n",
       "29         99.99         Boston, MA    11  \n",
       "30         99.99         Boston, MA    11  \n",
       "31          5.98  San Francisco, CA    17  \n",
       "32        600.00  San Francisco, CA    17  \n",
       "118        14.95  New York City, NY    11  \n",
       "119        11.95  New York City, NY    11  "
      ]
     },
     "execution_count": 46,
     "metadata": {},
     "output_type": "execute_result"
    }
   ],
   "source": [
    "# Check all duplicated order id\n",
    "df_same_id = df[df.order_id.duplicated(keep=False)]\n",
    "df_same_id.head(10)"
   ]
  },
  {
   "cell_type": "code",
   "execution_count": 47,
   "metadata": {},
   "outputs": [
    {
     "name": "stderr",
     "output_type": "stream",
     "text": [
      "<ipython-input-47-413fe7ea5ac8>:2: SettingWithCopyWarning: \n",
      "A value is trying to be set on a copy of a slice from a DataFrame.\n",
      "Try using .loc[row_indexer,col_indexer] = value instead\n",
      "\n",
      "See the caveats in the documentation: https://pandas.pydata.org/pandas-docs/stable/user_guide/indexing.html#returning-a-view-versus-a-copy\n",
      "  df_same_id['all_products'] = df_same_id.groupby('order_id')['product'].transform(lambda x: ', '.join(x))\n"
     ]
    }
   ],
   "source": [
    "# combine all products of the same order_id to one column\n",
    "df_same_id['all_products'] = df_same_id.groupby('order_id')['product'].transform(lambda x: ', '.join(x))"
   ]
  },
  {
   "cell_type": "code",
   "execution_count": 48,
   "metadata": {
    "scrolled": false
   },
   "outputs": [
    {
     "data": {
      "text/html": [
       "<div>\n",
       "<style scoped>\n",
       "    .dataframe tbody tr th:only-of-type {\n",
       "        vertical-align: middle;\n",
       "    }\n",
       "\n",
       "    .dataframe tbody tr th {\n",
       "        vertical-align: top;\n",
       "    }\n",
       "\n",
       "    .dataframe thead th {\n",
       "        text-align: right;\n",
       "    }\n",
       "</style>\n",
       "<table border=\"1\" class=\"dataframe\">\n",
       "  <thead>\n",
       "    <tr style=\"text-align: right;\">\n",
       "      <th></th>\n",
       "      <th>order_id</th>\n",
       "      <th>product</th>\n",
       "      <th>quantity_ordered</th>\n",
       "      <th>price_each</th>\n",
       "      <th>order_date</th>\n",
       "      <th>purchase_address</th>\n",
       "      <th>month</th>\n",
       "      <th>total_sales</th>\n",
       "      <th>city</th>\n",
       "      <th>hour</th>\n",
       "      <th>all_products</th>\n",
       "    </tr>\n",
       "  </thead>\n",
       "  <tbody>\n",
       "    <tr>\n",
       "      <th>2</th>\n",
       "      <td>176560</td>\n",
       "      <td>Google Phone</td>\n",
       "      <td>1.0</td>\n",
       "      <td>600.00</td>\n",
       "      <td>2019-04-12 14:38:00</td>\n",
       "      <td>669 Spruce St, Los Angeles, CA 90001</td>\n",
       "      <td>April</td>\n",
       "      <td>600.00</td>\n",
       "      <td>Los Angeles, CA</td>\n",
       "      <td>14</td>\n",
       "      <td>Google Phone, Wired Headphones</td>\n",
       "    </tr>\n",
       "    <tr>\n",
       "      <th>3</th>\n",
       "      <td>176560</td>\n",
       "      <td>Wired Headphones</td>\n",
       "      <td>1.0</td>\n",
       "      <td>11.99</td>\n",
       "      <td>2019-04-12 14:38:00</td>\n",
       "      <td>669 Spruce St, Los Angeles, CA 90001</td>\n",
       "      <td>April</td>\n",
       "      <td>11.99</td>\n",
       "      <td>Los Angeles, CA</td>\n",
       "      <td>14</td>\n",
       "      <td>Google Phone, Wired Headphones</td>\n",
       "    </tr>\n",
       "    <tr>\n",
       "      <th>17</th>\n",
       "      <td>176574</td>\n",
       "      <td>Google Phone</td>\n",
       "      <td>1.0</td>\n",
       "      <td>600.00</td>\n",
       "      <td>2019-04-03 19:42:00</td>\n",
       "      <td>20 Hill St, Los Angeles, CA 90001</td>\n",
       "      <td>April</td>\n",
       "      <td>600.00</td>\n",
       "      <td>Los Angeles, CA</td>\n",
       "      <td>19</td>\n",
       "      <td>Google Phone, USB-C Charging Cable</td>\n",
       "    </tr>\n",
       "    <tr>\n",
       "      <th>18</th>\n",
       "      <td>176574</td>\n",
       "      <td>USB-C Charging Cable</td>\n",
       "      <td>1.0</td>\n",
       "      <td>11.95</td>\n",
       "      <td>2019-04-03 19:42:00</td>\n",
       "      <td>20 Hill St, Los Angeles, CA 90001</td>\n",
       "      <td>April</td>\n",
       "      <td>11.95</td>\n",
       "      <td>Los Angeles, CA</td>\n",
       "      <td>19</td>\n",
       "      <td>Google Phone, USB-C Charging Cable</td>\n",
       "    </tr>\n",
       "    <tr>\n",
       "      <th>29</th>\n",
       "      <td>176585</td>\n",
       "      <td>Bose SoundSport Headphones</td>\n",
       "      <td>1.0</td>\n",
       "      <td>99.99</td>\n",
       "      <td>2019-04-07 11:31:00</td>\n",
       "      <td>823 Highland St, Boston, MA 02215</td>\n",
       "      <td>April</td>\n",
       "      <td>99.99</td>\n",
       "      <td>Boston, MA</td>\n",
       "      <td>11</td>\n",
       "      <td>Bose SoundSport Headphones, Bose SoundSport He...</td>\n",
       "    </tr>\n",
       "  </tbody>\n",
       "</table>\n",
       "</div>"
      ],
      "text/plain": [
       "    order_id                     product  quantity_ordered  price_each  \\\n",
       "2     176560                Google Phone               1.0      600.00   \n",
       "3     176560            Wired Headphones               1.0       11.99   \n",
       "17    176574                Google Phone               1.0      600.00   \n",
       "18    176574        USB-C Charging Cable               1.0       11.95   \n",
       "29    176585  Bose SoundSport Headphones               1.0       99.99   \n",
       "\n",
       "            order_date                      purchase_address  month  \\\n",
       "2  2019-04-12 14:38:00  669 Spruce St, Los Angeles, CA 90001  April   \n",
       "3  2019-04-12 14:38:00  669 Spruce St, Los Angeles, CA 90001  April   \n",
       "17 2019-04-03 19:42:00     20 Hill St, Los Angeles, CA 90001  April   \n",
       "18 2019-04-03 19:42:00     20 Hill St, Los Angeles, CA 90001  April   \n",
       "29 2019-04-07 11:31:00     823 Highland St, Boston, MA 02215  April   \n",
       "\n",
       "    total_sales             city  hour  \\\n",
       "2        600.00  Los Angeles, CA    14   \n",
       "3         11.99  Los Angeles, CA    14   \n",
       "17       600.00  Los Angeles, CA    19   \n",
       "18        11.95  Los Angeles, CA    19   \n",
       "29        99.99       Boston, MA    11   \n",
       "\n",
       "                                         all_products  \n",
       "2                      Google Phone, Wired Headphones  \n",
       "3                      Google Phone, Wired Headphones  \n",
       "17                 Google Phone, USB-C Charging Cable  \n",
       "18                 Google Phone, USB-C Charging Cable  \n",
       "29  Bose SoundSport Headphones, Bose SoundSport He...  "
      ]
     },
     "execution_count": 48,
     "metadata": {},
     "output_type": "execute_result"
    }
   ],
   "source": [
    "df_same_id.head()"
   ]
  },
  {
   "cell_type": "code",
   "execution_count": 49,
   "metadata": {},
   "outputs": [
    {
     "name": "stderr",
     "output_type": "stream",
     "text": [
      "<ipython-input-49-115d3a11c302>:2: SettingWithCopyWarning: \n",
      "A value is trying to be set on a copy of a slice from a DataFrame\n",
      "\n",
      "See the caveats in the documentation: https://pandas.pydata.org/pandas-docs/stable/user_guide/indexing.html#returning-a-view-versus-a-copy\n",
      "  df_same_id.drop_duplicates('order_id', inplace=True)\n"
     ]
    }
   ],
   "source": [
    "# Drop duplicated order id\n",
    "df_same_id.drop_duplicates('order_id', inplace=True)"
   ]
  },
  {
   "cell_type": "code",
   "execution_count": 50,
   "metadata": {},
   "outputs": [
    {
     "data": {
      "text/html": [
       "<div>\n",
       "<style scoped>\n",
       "    .dataframe tbody tr th:only-of-type {\n",
       "        vertical-align: middle;\n",
       "    }\n",
       "\n",
       "    .dataframe tbody tr th {\n",
       "        vertical-align: top;\n",
       "    }\n",
       "\n",
       "    .dataframe thead th {\n",
       "        text-align: right;\n",
       "    }\n",
       "</style>\n",
       "<table border=\"1\" class=\"dataframe\">\n",
       "  <thead>\n",
       "    <tr style=\"text-align: right;\">\n",
       "      <th></th>\n",
       "      <th>order_id</th>\n",
       "      <th>all_products</th>\n",
       "    </tr>\n",
       "  </thead>\n",
       "  <tbody>\n",
       "    <tr>\n",
       "      <th>2</th>\n",
       "      <td>176560</td>\n",
       "      <td>Google Phone, Wired Headphones</td>\n",
       "    </tr>\n",
       "    <tr>\n",
       "      <th>17</th>\n",
       "      <td>176574</td>\n",
       "      <td>Google Phone, USB-C Charging Cable</td>\n",
       "    </tr>\n",
       "    <tr>\n",
       "      <th>29</th>\n",
       "      <td>176585</td>\n",
       "      <td>Bose SoundSport Headphones, Bose SoundSport He...</td>\n",
       "    </tr>\n",
       "    <tr>\n",
       "      <th>31</th>\n",
       "      <td>176586</td>\n",
       "      <td>AAA Batteries (4-pack), Google Phone</td>\n",
       "    </tr>\n",
       "    <tr>\n",
       "      <th>118</th>\n",
       "      <td>176672</td>\n",
       "      <td>Lightning Charging Cable, USB-C Charging Cable</td>\n",
       "    </tr>\n",
       "  </tbody>\n",
       "</table>\n",
       "</div>"
      ],
      "text/plain": [
       "     order_id                                       all_products\n",
       "2      176560                     Google Phone, Wired Headphones\n",
       "17     176574                 Google Phone, USB-C Charging Cable\n",
       "29     176585  Bose SoundSport Headphones, Bose SoundSport He...\n",
       "31     176586               AAA Batteries (4-pack), Google Phone\n",
       "118    176672     Lightning Charging Cable, USB-C Charging Cable"
      ]
     },
     "execution_count": 50,
     "metadata": {},
     "output_type": "execute_result"
    }
   ],
   "source": [
    "# use only needed columns\n",
    "df_same_id = df_same_id[['order_id', 'all_products']]\n",
    "df_same_id.head()"
   ]
  },
  {
   "cell_type": "markdown",
   "metadata": {},
   "source": [
    "**Find out which 2 product are sold together, then we may make offers on them to increase sales.**"
   ]
  },
  {
   "cell_type": "code",
   "execution_count": 51,
   "metadata": {},
   "outputs": [
    {
     "name": "stdout",
     "output_type": "stream",
     "text": [
      "('iPhone', 'Lightning Charging Cable') 973\n",
      "('Google Phone', 'USB-C Charging Cable') 954\n",
      "('iPhone', 'Wired Headphones') 437\n",
      "('Google Phone', 'Wired Headphones') 401\n",
      "('Vareebadd Phone', 'USB-C Charging Cable') 348\n"
     ]
    }
   ],
   "source": [
    "from itertools import combinations\n",
    "from collections import Counter\n",
    "\n",
    "count = Counter()\n",
    "\n",
    "for row in df_same_id.all_products:\n",
    "    row_list = row.split(', ')\n",
    "    count.update(Counter(combinations(row_list, 2)))\n",
    "                 \n",
    "for key, value in count.most_common(5):\n",
    "    print(key, value)\n"
   ]
  },
  {
   "cell_type": "markdown",
   "metadata": {},
   "source": [
    "[*Resource: Counting “unique pairs” of numbers into a python dictionary?*](https://stackoverflow.com/questions/52195887/counting-unique-pairs-of-numbers-into-a-python-dictionary)"
   ]
  },
  {
   "cell_type": "markdown",
   "metadata": {},
   "source": [
    "---\n",
    "### Q5: What product sold the most? Why do you think it sold the most?\n"
   ]
  },
  {
   "cell_type": "code",
   "execution_count": 52,
   "metadata": {},
   "outputs": [
    {
     "data": {
      "text/plain": [
       "product\n",
       "AAA Batteries (4-pack)        30487.0\n",
       "AA Batteries (4-pack)         27148.0\n",
       "USB-C Charging Cable          23555.0\n",
       "Lightning Charging Cable      22841.0\n",
       "Wired Headphones              20201.0\n",
       "Apple Airpods Headphones      15383.0\n",
       "Bose SoundSport Headphones    13236.0\n",
       "27in FHD Monitor               7429.0\n",
       "iPhone                         6732.0\n",
       "27in 4K Gaming Monitor         6134.0\n",
       "34in Ultrawide Monitor         6076.0\n",
       "Google Phone                   5440.0\n",
       "Flatscreen TV                  4724.0\n",
       "Macbook Pro Laptop             4645.0\n",
       "20in Monitor                   4058.0\n",
       "ThinkPad Laptop                4054.0\n",
       "Vareebadd Phone                2023.0\n",
       "LG Washing Machine              649.0\n",
       "LG Dryer                        640.0\n",
       "Name: quantity_ordered, dtype: float64"
      ]
     },
     "execution_count": 52,
     "metadata": {},
     "output_type": "execute_result"
    }
   ],
   "source": [
    "df.groupby('product').sum()['quantity_ordered'].sort_values(ascending=False)"
   ]
  },
  {
   "cell_type": "code",
   "execution_count": 53,
   "metadata": {},
   "outputs": [
    {
     "data": {
      "image/png": "[encoded data removed]",
      "text/plain": [
       "<Figure size 1000x600 with 1 Axes>"
      ]
     },
     "metadata": {},
     "output_type": "display_data"
    }
   ],
   "source": [
    "plt.figure(figsize=(10, 6))\n",
    "\n",
    "product_group = df.groupby('product')\n",
    "products = [product for product, df in product_group]\n",
    "\n",
    "plt.bar(products, product_group.sum()['quantity_ordered'])\n",
    "\n",
    "plt.xticks(products, rotation='vertical', size=8)\n",
    "plt.xlabel(\"Product name\", color='darkblue', size=10)\n",
    "plt.ylabel(\"Quantity\", color='darkblue', size=10)\n",
    "plt.title(\"Most sold products\", color='darkred', size=12)\n",
    "\n",
    "plt.savefig(\"./img/04_most_product\", bbox_inches='tight', dpi=300)\n",
    "plt.show()"
   ]
  },
  {
   "cell_type": "markdown",
   "metadata": {},
   "source": [
    "**Why AAA Batteries (4-pack) and AA Batteries (4-pack) sold more?**\n",
    "- Lets compare prices to figure out why..."
   ]
  },
  {
   "cell_type": "code",
   "execution_count": 54,
   "metadata": {},
   "outputs": [
    {
     "name": "stderr",
     "output_type": "stream",
     "text": [
      "<ipython-input-54-a2a106650a03>:15: UserWarning: FixedFormatter should only be used together with FixedLocator\n",
      "  ax1.set_xticklabels(products, rotation='vertical', size=8)\n"
     ]
    },
    {
     "data": {
      "text/plain": [
       "<Figure size 1200x800 with 0 Axes>"
      ]
     },
     "metadata": {},
     "output_type": "display_data"
    },
    {
     "data": {
      "image/png": "[encoded data removed]",
      "text/plain": [
       "<Figure size 640x480 with 2 Axes>"
      ]
     },
     "metadata": {},
     "output_type": "display_data"
    }
   ],
   "source": [
    "plt.figure(figsize=(12, 8))\n",
    "plt.style.use('default')\n",
    "\n",
    "prices = df.groupby('product').mean()['price_each']\n",
    "\n",
    "fig, ax1 = plt.subplots()\n",
    "ax2 = ax1.twinx()\n",
    "\n",
    "ax1.bar(products, product_group.sum()['quantity_ordered'], alpha=0.75)\n",
    "ax2.plot(products, prices, 'r--')\n",
    "\n",
    "ax1.set_xlabel('Product name', size=10)\n",
    "ax1.set_ylabel('Quantity', color='b', size=10)\n",
    "ax2.set_ylabel('Price ($)', color='r', size=10)\n",
    "ax1.set_xticklabels(products, rotation='vertical', size=8)\n",
    "plt.title(\"Most sold products with price\", color='darkred', size=12)\n",
    "\n",
    "plt.savefig(\"./img/05_most_product_price\", bbox_inches='tight', dpi=300)\n",
    "\n",
    "plt.show()"
   ]
  },
  {
   "cell_type": "markdown",
   "metadata": {},
   "source": [
    "[*Resources: Adding a y-axis label to secondary y-axis in matplotlib*](https://stackoverflow.com/questions/14762181/adding-a-y-axis-label-to-secondary-y-axis-in-matplotlib)"
   ]
  }
 ],
 "metadata": {
  "kernelspec": {
   "display_name": "Python 3",
   "language": "python",
   "name": "python3"
  },
  "language_info": {
   "codemirror_mode": {
    "name": "ipython",
    "version": 3
   },
   "file_extension": ".py",
   "mimetype": "text/x-python",
   "name": "python",
   "nbconvert_exporter": "python",
   "pygments_lexer": "ipython3",
   "version": "3.8.2"
  }
 },
 "nbformat": 4,
 "nbformat_minor": 4
}
